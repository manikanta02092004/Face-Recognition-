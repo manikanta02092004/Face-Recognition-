{
 "cells": [
  {
   "cell_type": "code",
   "execution_count": null,
   "metadata": {
    "colab": {
     "base_uri": "https://localhost:8080/"
    },
    "executionInfo": {
     "elapsed": 9935,
     "status": "ok",
     "timestamp": 1732021109211,
     "user": {
      "displayName": "SATYA SAI RAMESH PANCHAKARLA",
      "userId": "05061219670073955967"
     },
     "user_tz": -330
    },
    "id": "PcAnX4oWK838",
    "outputId": "522e6a25-40e6-4ce9-971e-ac49280cb93a"
   },
   "outputs": [
    {
     "name": "stderr",
     "output_type": "stream",
     "text": [
      "Processing categories:   0%|          | 0/22 [00:00<?, ?it/s]\n",
      "Processing 2:   0%|          | 0/5 [00:00<?, ?it/s]\u001b[A\n",
      "Processing 2:  20%|██        | 1/5 [00:00<00:00,  5.71it/s]\u001b[A\n",
      "Processing 2:  40%|████      | 2/5 [00:00<00:00,  6.03it/s]\u001b[A\n",
      "Processing 2:  60%|██████    | 3/5 [00:00<00:00,  5.43it/s]\u001b[A\n",
      "Processing 2:  80%|████████  | 4/5 [00:00<00:00,  5.33it/s]\u001b[A\n",
      "Processing 2: 100%|██████████| 5/5 [00:00<00:00,  5.65it/s]\n",
      "Processing categories:   5%|▍         | 1/22 [00:00<00:19,  1.10it/s]\n",
      "Processing 19:   0%|          | 0/5 [00:00<?, ?it/s]\u001b[A\n",
      "Processing 19:  40%|████      | 2/5 [00:00<00:00, 11.10it/s]\u001b[A\n",
      "Processing 19:  80%|████████  | 4/5 [00:00<00:00,  7.62it/s]\u001b[A\n",
      "Processing 19: 100%|██████████| 5/5 [00:00<00:00,  5.64it/s]\n",
      "Processing categories:   9%|▉         | 2/22 [00:01<00:18,  1.11it/s]\n",
      "Processing 7:   0%|          | 0/5 [00:00<?, ?it/s]\u001b[A\n",
      "Processing 7:  40%|████      | 2/5 [00:00<00:00, 10.33it/s]\u001b[A\n",
      "Processing 7:  80%|████████  | 4/5 [00:00<00:00,  9.83it/s]\u001b[A\n",
      "Processing 7: 100%|██████████| 5/5 [00:00<00:00,  9.62it/s]\n",
      "Processing categories:  14%|█▎        | 3/22 [00:02<00:14,  1.35it/s]\n",
      "Processing 8:   0%|          | 0/5 [00:00<?, ?it/s]\u001b[A\n",
      "Processing 8:  40%|████      | 2/5 [00:00<00:00, 13.82it/s]\u001b[A\n",
      "Processing 8: 100%|██████████| 5/5 [00:00<00:00, 11.47it/s]\n",
      "Processing categories:  18%|█▊        | 4/22 [00:02<00:11,  1.59it/s]\n",
      "Processing 5:   0%|          | 0/5 [00:00<?, ?it/s]\u001b[A\n",
      "Processing 5:  40%|████      | 2/5 [00:00<00:00, 15.50it/s]\u001b[A\n",
      "Processing 5: 100%|██████████| 5/5 [00:00<00:00, 15.81it/s]\n",
      "Processing categories:  23%|██▎       | 5/22 [00:03<00:08,  1.91it/s]\n",
      "Processing 9:   0%|          | 0/5 [00:00<?, ?it/s]\u001b[A\n",
      "Processing 9:  40%|████      | 2/5 [00:00<00:00, 14.56it/s]\u001b[A\n",
      "Processing 9: 100%|██████████| 5/5 [00:00<00:00, 14.81it/s]\n",
      "Processing categories:  27%|██▋       | 6/22 [00:03<00:07,  2.15it/s]\n",
      "Processing 4:   0%|          | 0/5 [00:00<?, ?it/s]\u001b[A\n",
      "Processing 4:  40%|████      | 2/5 [00:00<00:00, 14.71it/s]\u001b[A\n",
      "Processing 4: 100%|██████████| 5/5 [00:00<00:00, 14.85it/s]\n",
      "Processing categories:  32%|███▏      | 7/22 [00:03<00:06,  2.32it/s]\n",
      "Processing 6:   0%|          | 0/5 [00:00<?, ?it/s]\u001b[A\n",
      "Processing 6:  40%|████      | 2/5 [00:00<00:00, 15.24it/s]\u001b[A\n",
      "Processing 6: 100%|██████████| 5/5 [00:00<00:00, 15.80it/s]\n",
      "Processing categories:  36%|███▋      | 8/22 [00:04<00:05,  2.50it/s]\n",
      "Processing 20:   0%|          | 0/5 [00:00<?, ?it/s]\u001b[A\n",
      "Processing 20:  40%|████      | 2/5 [00:00<00:00, 14.72it/s]\u001b[A\n",
      "Processing 20: 100%|██████████| 5/5 [00:00<00:00, 15.13it/s]\n",
      "Processing categories:  41%|████      | 9/22 [00:04<00:05,  2.59it/s]\n",
      "Processing 3:   0%|          | 0/5 [00:00<?, ?it/s]\u001b[A\n",
      "Processing 3:  40%|████      | 2/5 [00:00<00:00, 11.95it/s]\u001b[A\n",
      "Processing 3: 100%|██████████| 5/5 [00:00<00:00, 14.17it/s]\n",
      "Processing categories:  45%|████▌     | 10/22 [00:04<00:04,  2.63it/s]\n",
      "Processing 16:   0%|          | 0/5 [00:00<?, ?it/s]\u001b[A\n",
      "Processing 16:  40%|████      | 2/5 [00:00<00:00, 19.93it/s]\u001b[A\n",
      "Processing 16: 100%|██████████| 5/5 [00:00<00:00, 17.15it/s]\n",
      "Processing categories:  50%|█████     | 11/22 [00:05<00:03,  2.79it/s]\n",
      "Processing 14:   0%|          | 0/5 [00:00<?, ?it/s]\u001b[A\n",
      "Processing 14:  40%|████      | 2/5 [00:00<00:00, 12.90it/s]\u001b[A\n",
      "Processing 14: 100%|██████████| 5/5 [00:00<00:00, 14.11it/s]\n",
      "Processing categories:  55%|█████▍    | 12/22 [00:05<00:03,  2.77it/s]\n",
      "Processing 10:   0%|          | 0/5 [00:00<?, ?it/s]\u001b[A\n",
      "Processing 10:  40%|████      | 2/5 [00:00<00:00, 14.21it/s]\u001b[A\n",
      "Processing 10: 100%|██████████| 5/5 [00:00<00:00, 15.53it/s]\n",
      "Processing categories:  59%|█████▉    | 13/22 [00:05<00:03,  2.82it/s]\n",
      "Processing 13:   0%|          | 0/5 [00:00<?, ?it/s]\u001b[A\n",
      "Processing 13:  40%|████      | 2/5 [00:00<00:00, 16.67it/s]\u001b[A\n",
      "Processing 13: 100%|██████████| 5/5 [00:00<00:00, 15.61it/s]\n",
      "Processing categories:  64%|██████▎   | 14/22 [00:06<00:02,  2.86it/s]\n",
      "Processing 1:   0%|          | 0/5 [00:00<?, ?it/s]\u001b[A\n",
      "Processing 1:  40%|████      | 2/5 [00:00<00:00, 16.11it/s]\u001b[A\n",
      "Processing 1: 100%|██████████| 5/5 [00:00<00:00, 14.60it/s]\n",
      "Processing categories:  68%|██████▊   | 15/22 [00:06<00:02,  2.84it/s]\n",
      "Processing 18:   0%|          | 0/5 [00:00<?, ?it/s]\u001b[A\n",
      "Processing 18:  40%|████      | 2/5 [00:00<00:00, 14.30it/s]\u001b[A\n",
      "Processing 18: 100%|██████████| 5/5 [00:00<00:00, 15.16it/s]\n",
      "Processing categories:  73%|███████▎  | 16/22 [00:06<00:02,  2.84it/s]\n",
      "Processing 12:   0%|          | 0/5 [00:00<?, ?it/s]\u001b[A\n",
      "Processing 12:  40%|████      | 2/5 [00:00<00:00, 19.94it/s]\u001b[A\n",
      "Processing 12: 100%|██████████| 5/5 [00:00<00:00, 17.54it/s]\n",
      "Processing categories:  77%|███████▋  | 17/22 [00:07<00:01,  2.96it/s]\n",
      "Processing 17:   0%|          | 0/5 [00:00<?, ?it/s]\u001b[A\n",
      "Processing 17:  40%|████      | 2/5 [00:00<00:00, 15.25it/s]\u001b[A\n",
      "Processing 17: 100%|██████████| 5/5 [00:00<00:00, 14.38it/s]\n",
      "Processing categories:  82%|████████▏ | 18/22 [00:07<00:01,  2.88it/s]\n",
      "Processing 11:   0%|          | 0/5 [00:00<?, ?it/s]\u001b[A\n",
      "Processing 11:  40%|████      | 2/5 [00:00<00:00, 14.34it/s]\u001b[A\n",
      "Processing 11: 100%|██████████| 5/5 [00:00<00:00, 15.23it/s]\n",
      "Processing categories:  86%|████████▋ | 19/22 [00:08<00:01,  2.88it/s]\n",
      "Processing 15:   0%|          | 0/5 [00:00<?, ?it/s]\u001b[A\n",
      "Processing 15:  40%|████      | 2/5 [00:00<00:00, 17.95it/s]\u001b[A\n",
      "Processing 15: 100%|██████████| 5/5 [00:00<00:00, 17.24it/s]\n",
      "Processing categories:  91%|█████████ | 20/22 [00:08<00:00,  2.99it/s]\n",
      "Processing 21:   0%|          | 0/7 [00:00<?, ?it/s]\u001b[A\n",
      "Processing 21:  29%|██▊       | 2/7 [00:00<00:00, 18.89it/s]\u001b[A\n",
      "Processing 21:  57%|█████▋    | 4/7 [00:00<00:00, 15.43it/s]\u001b[A\n",
      "Processing 21: 100%|██████████| 7/7 [00:00<00:00, 15.49it/s]\n",
      "Processing categories:  95%|█████████▌| 21/22 [00:08<00:00,  2.67it/s]\n",
      "Processing 22:   0%|          | 0/5 [00:00<?, ?it/s]\u001b[A\n",
      "Processing 22:  40%|████      | 2/5 [00:00<00:00, 15.67it/s]\u001b[A\n",
      "Processing 22: 100%|██████████| 5/5 [00:00<00:00, 15.44it/s]\n",
      "Processing categories: 100%|██████████| 22/22 [00:09<00:00,  2.41it/s]\n"
     ]
    }
   ],
   "source": [
    "import os\n",
    "import cv2\n",
    "import numpy as np\n",
    "from tqdm import tqdm\n",
    "import random\n",
    "\n",
    "def augment_image(image, augmentation_type):\n",
    "    \"\"\"\n",
    "    Apply augmentation based on the type specified with multiple conditions.\n",
    "    \"\"\"\n",
    "    if augmentation_type == \"light_increase\":\n",
    "        # Apply varying levels of light increase\n",
    "        choice = np.random.choice([1.1, 1.3, 1.5])  # Random scaling factor for brightness\n",
    "        beta = np.random.choice([20, 40, 60])  # Random adjustment to brightness\n",
    "        return cv2.convertScaleAbs(image, alpha=choice, beta=beta)\n",
    "\n",
    "    elif augmentation_type == \"light_decrease\":\n",
    "        # Apply varying levels of light decrease\n",
    "        choice = np.random.uniform(0.6, 0.8)  # Scaling factor for dimming\n",
    "        beta = np.random.uniform(-30, -10)  # Random adjustment to dimming\n",
    "        return cv2.convertScaleAbs(image, alpha=choice, beta=beta)\n",
    "\n",
    "    elif augmentation_type == \"gaussian_blur\":\n",
    "        # Apply Gaussian blur to the image\n",
    "        return cv2.GaussianBlur(image, (5, 5), 0)  # Adjust the kernel size for more/less blurring\n",
    "\n",
    "    elif augmentation_type == \"light_placement\":\n",
    "        # Simulate varying light placements\n",
    "        choice = np.random.choice([\"center\", \"top_left\", \"top_right\", \"bottom_left\", \"bottom_right\"])\n",
    "        mask = np.zeros_like(image, dtype=np.float32)\n",
    "        center = (image.shape[1] // 2, image.shape[0] // 2)\n",
    "\n",
    "        if choice == \"top_left\":\n",
    "            center = (image.shape[1] // 4, image.shape[0] // 4)\n",
    "        elif choice == \"top_right\":\n",
    "            center = (3 * image.shape[1] // 4, image.shape[0] // 4)\n",
    "        elif choice == \"bottom_left\":\n",
    "            center = (image.shape[1] // 4, 3 * image.shape[0] // 4)\n",
    "        elif choice == \"bottom_right\":\n",
    "            center = (3 * image.shape[1] // 4, 3 * image.shape[0] // 4)\n",
    "\n",
    "        # Create gradient spotlight\n",
    "        radius = min(image.shape[0], image.shape[1]) // 3\n",
    "        cv2.circle(mask, center, radius, (1.0, 1.0, 1.0), -1)\n",
    "        mask = cv2.GaussianBlur(mask, (41, 41), 0)  # Smooth edges\n",
    "\n",
    "        # Blend mask with the image\n",
    "        light_intensity = np.random.uniform(0.7, 1.2)\n",
    "        blended_image = cv2.addWeighted(image.astype(np.float32), light_intensity, mask, 1 - light_intensity, 0)\n",
    "        blended_image = np.clip(blended_image, 0, 255).astype(np.uint8)\n",
    "        return blended_image\n",
    "\n",
    "\n",
    "    else:\n",
    "        raise ValueError(\"Invalid augmentation type!\")\n",
    "\n",
    "\n",
    "def augment_dataset(dataset_dir, output_dir):\n",
    "    \"\"\"\n",
    "    Augment the dataset by applying various transformations.\n",
    "    \"\"\"\n",
    "    # Create output directories if they don't exist\n",
    "    if not os.path.exists(output_dir):\n",
    "        os.makedirs(output_dir)\n",
    "\n",
    "    # List all categories (folders)\n",
    "    categories = os.listdir(dataset_dir)\n",
    "    augmentation_types = [\"light_increase\", \"light_decrease\", \"gaussian_blur\", \"light_placement\"]\n",
    "\n",
    "    for category in tqdm(categories, desc=\"Processing categories\"):\n",
    "        category_path = os.path.join(dataset_dir, category)\n",
    "        if not os.path.isdir(category_path):\n",
    "            continue\n",
    "\n",
    "        # Create a subfolder for the augmented images\n",
    "        augmented_category_path = os.path.join(output_dir, category)\n",
    "        os.makedirs(augmented_category_path, exist_ok=True)\n",
    "\n",
    "        # Process images in each category folder\n",
    "        image_files = [f for f in os.listdir(category_path) if f.endswith(\".jpg\") or f.endswith(\".png\")]\n",
    "        for image_file in tqdm(image_files, desc=f\"Processing {category}\"):\n",
    "            image_path = os.path.join(category_path, image_file)\n",
    "            image = cv2.imread(image_path)\n",
    "\n",
    "            # Apply augmentations\n",
    "            for aug_type in augmentation_types:\n",
    "                augmented_image = augment_image(image, aug_type)\n",
    "\n",
    "                # Save the augmented image\n",
    "                aug_image_name = f\"{image_file.split('.')[0]}_{aug_type}.{image_file.split('.')[-1]}\"\n",
    "                augmented_image_path = os.path.join(augmented_category_path, aug_image_name)\n",
    "                cv2.imwrite(augmented_image_path, augmented_image)\n",
    "\n",
    "# Paths to the dataset\n",
    "dataset_dir = \"/content/drive/MyDrive/CV_Project_2024-25iiits/dataset/test_images\"\n",
    "output_dir = \"/content/drive/MyDrive/CV_Project_2024-25iiits/augmented_dataset/test\"\n",
    "\n",
    "# Augment the dataset\n",
    "augment_dataset(dataset_dir, output_dir)\n",
    "\n"
   ]
  },
  {
   "cell_type": "code",
   "execution_count": null,
   "metadata": {
    "colab": {
     "base_uri": "https://localhost:8080/"
    },
    "executionInfo": {
     "elapsed": 448536,
     "status": "ok",
     "timestamp": 1731818711435,
     "user": {
      "displayName": "SATYA SAI RAMESH PANCHAKARLA",
      "userId": "05061219670073955967"
     },
     "user_tz": -330
    },
    "id": "NoEia0x7VPVJ",
    "outputId": "40fb1c55-ecbb-4a8a-ef8e-7f419092e1d3"
   },
   "outputs": [
    {
     "name": "stdout",
     "output_type": "stream",
     "text": [
      "Processing train_images...\n"
     ]
    },
    {
     "name": "stderr",
     "output_type": "stream",
     "text": [
      "Processing /content/drive/MyDrive/CV_Project_2024-25iiits/dataset/train_images: 0it [00:00, ?it/s]\n",
      "Processing /content/drive/MyDrive/CV_Project_2024-25iiits/dataset/train_images/1: 100%|██████████| 35/35 [00:20<00:00,  1.70it/s]\n",
      "Processing /content/drive/MyDrive/CV_Project_2024-25iiits/dataset/train_images/10: 100%|██████████| 35/35 [00:19<00:00,  1.75it/s]\n",
      "Processing /content/drive/MyDrive/CV_Project_2024-25iiits/dataset/train_images/11: 100%|██████████| 34/34 [00:18<00:00,  1.84it/s]\n",
      "Processing /content/drive/MyDrive/CV_Project_2024-25iiits/dataset/train_images/12: 100%|██████████| 35/35 [00:19<00:00,  1.77it/s]\n",
      "Processing /content/drive/MyDrive/CV_Project_2024-25iiits/dataset/train_images/13: 100%|██████████| 35/35 [00:19<00:00,  1.79it/s]\n",
      "Processing /content/drive/MyDrive/CV_Project_2024-25iiits/dataset/train_images/14: 100%|██████████| 35/35 [00:19<00:00,  1.77it/s]\n",
      "Processing /content/drive/MyDrive/CV_Project_2024-25iiits/dataset/train_images/15: 100%|██████████| 34/34 [00:18<00:00,  1.83it/s]\n",
      "Processing /content/drive/MyDrive/CV_Project_2024-25iiits/dataset/train_images/16: 100%|██████████| 35/35 [00:19<00:00,  1.81it/s]\n",
      "Processing /content/drive/MyDrive/CV_Project_2024-25iiits/dataset/train_images/17: 100%|██████████| 35/35 [00:19<00:00,  1.81it/s]\n",
      "Processing /content/drive/MyDrive/CV_Project_2024-25iiits/dataset/train_images/18: 100%|██████████| 34/34 [00:19<00:00,  1.74it/s]\n",
      "Processing /content/drive/MyDrive/CV_Project_2024-25iiits/dataset/train_images/19: 100%|██████████| 35/35 [00:19<00:00,  1.77it/s]\n",
      "Processing /content/drive/MyDrive/CV_Project_2024-25iiits/dataset/train_images/2: 100%|██████████| 35/35 [00:19<00:00,  1.81it/s]\n",
      "Processing /content/drive/MyDrive/CV_Project_2024-25iiits/dataset/train_images/20: 100%|██████████| 35/35 [00:20<00:00,  1.75it/s]\n",
      "Processing /content/drive/MyDrive/CV_Project_2024-25iiits/dataset/train_images/3: 100%|██████████| 35/35 [00:19<00:00,  1.76it/s]\n",
      "Processing /content/drive/MyDrive/CV_Project_2024-25iiits/dataset/train_images/4: 100%|██████████| 35/35 [00:19<00:00,  1.82it/s]\n",
      "Processing /content/drive/MyDrive/CV_Project_2024-25iiits/dataset/train_images/5: 100%|██████████| 35/35 [00:19<00:00,  1.80it/s]\n",
      "Processing /content/drive/MyDrive/CV_Project_2024-25iiits/dataset/train_images/6: 100%|██████████| 35/35 [00:19<00:00,  1.80it/s]\n",
      "Processing /content/drive/MyDrive/CV_Project_2024-25iiits/dataset/train_images/7: 100%|██████████| 35/35 [00:19<00:00,  1.79it/s]\n",
      "Processing /content/drive/MyDrive/CV_Project_2024-25iiits/dataset/train_images/8: 100%|██████████| 34/34 [00:18<00:00,  1.80it/s]\n",
      "Processing /content/drive/MyDrive/CV_Project_2024-25iiits/dataset/train_images/9: 100%|██████████| 35/35 [00:19<00:00,  1.80it/s]\n"
     ]
    },
    {
     "name": "stdout",
     "output_type": "stream",
     "text": [
      "Processing test_images...\n"
     ]
    },
    {
     "name": "stderr",
     "output_type": "stream",
     "text": [
      "Processing /content/drive/MyDrive/CV_Project_2024-25iiits/dataset/test_images: 0it [00:00, ?it/s]\n",
      "Processing /content/drive/MyDrive/CV_Project_2024-25iiits/dataset/test_images/19: 100%|██████████| 5/5 [00:02<00:00,  1.86it/s]\n",
      "Processing /content/drive/MyDrive/CV_Project_2024-25iiits/dataset/test_images/2: 100%|██████████| 5/5 [00:02<00:00,  1.88it/s]\n",
      "Processing /content/drive/MyDrive/CV_Project_2024-25iiits/dataset/test_images/20: 100%|██████████| 5/5 [00:02<00:00,  1.76it/s]\n",
      "Processing /content/drive/MyDrive/CV_Project_2024-25iiits/dataset/test_images/3: 100%|██████████| 5/5 [00:02<00:00,  1.74it/s]\n",
      "Processing /content/drive/MyDrive/CV_Project_2024-25iiits/dataset/test_images/4: 100%|██████████| 5/5 [00:02<00:00,  1.75it/s]\n",
      "Processing /content/drive/MyDrive/CV_Project_2024-25iiits/dataset/test_images/5: 100%|██████████| 5/5 [00:02<00:00,  1.80it/s]\n",
      "Processing /content/drive/MyDrive/CV_Project_2024-25iiits/dataset/test_images/6: 100%|██████████| 5/5 [00:02<00:00,  1.74it/s]\n",
      "Processing /content/drive/MyDrive/CV_Project_2024-25iiits/dataset/test_images/7: 100%|██████████| 5/5 [00:02<00:00,  1.85it/s]\n",
      "Processing /content/drive/MyDrive/CV_Project_2024-25iiits/dataset/test_images/8: 100%|██████████| 5/5 [00:02<00:00,  1.73it/s]\n",
      "Processing /content/drive/MyDrive/CV_Project_2024-25iiits/dataset/test_images/9: 100%|██████████| 5/5 [00:02<00:00,  1.68it/s]\n",
      "Processing /content/drive/MyDrive/CV_Project_2024-25iiits/dataset/test_images/1: 100%|██████████| 5/5 [00:02<00:00,  1.82it/s]\n",
      "Processing /content/drive/MyDrive/CV_Project_2024-25iiits/dataset/test_images/10: 100%|██████████| 5/5 [00:02<00:00,  1.71it/s]\n",
      "Processing /content/drive/MyDrive/CV_Project_2024-25iiits/dataset/test_images/11: 100%|██████████| 5/5 [00:02<00:00,  1.84it/s]\n",
      "Processing /content/drive/MyDrive/CV_Project_2024-25iiits/dataset/test_images/12: 100%|██████████| 5/5 [00:02<00:00,  1.81it/s]\n",
      "Processing /content/drive/MyDrive/CV_Project_2024-25iiits/dataset/test_images/13: 100%|██████████| 5/5 [00:02<00:00,  1.82it/s]\n",
      "Processing /content/drive/MyDrive/CV_Project_2024-25iiits/dataset/test_images/14: 100%|██████████| 5/5 [00:02<00:00,  1.82it/s]\n",
      "Processing /content/drive/MyDrive/CV_Project_2024-25iiits/dataset/test_images/15: 100%|██████████| 5/5 [00:02<00:00,  1.84it/s]\n",
      "Processing /content/drive/MyDrive/CV_Project_2024-25iiits/dataset/test_images/16: 100%|██████████| 5/5 [00:02<00:00,  1.83it/s]\n",
      "Processing /content/drive/MyDrive/CV_Project_2024-25iiits/dataset/test_images/17: 100%|██████████| 5/5 [00:02<00:00,  1.83it/s]\n",
      "Processing /content/drive/MyDrive/CV_Project_2024-25iiits/dataset/test_images/18: 100%|██████████| 5/5 [00:02<00:00,  1.74it/s]"
     ]
    },
    {
     "name": "stdout",
     "output_type": "stream",
     "text": [
      "All images processed successfully.\n"
     ]
    },
    {
     "name": "stderr",
     "output_type": "stream",
     "text": [
      "\n"
     ]
    }
   ],
   "source": [
    "import os\n",
    "import cv2\n",
    "import numpy as np\n",
    "from random import sample\n",
    "from tqdm import tqdm\n",
    "\n",
    "# Path to the dataset directory\n",
    "base_path = \"/content/drive/MyDrive/CV_Project_2024-25iiits/dataset\"\n",
    "\n",
    "# Target size for resizing\n",
    "target_size = (160, 160)\n",
    "\n",
    "# Probability of adding noise to an image\n",
    "noise_probability = 0.2  # 20% of the images will have noise\n",
    "\n",
    "# Function to add random noise to an image\n",
    "def add_random_noise(image):\n",
    "    noise = np.random.normal(0, 25, image.shape).astype(np.uint8)\n",
    "    noisy_image = cv2.add(image, noise)\n",
    "    return noisy_image\n",
    "\n",
    "# Function to process images in a folder\n",
    "def process_folder(folder_path):\n",
    "    for subdir, _, files in os.walk(folder_path):\n",
    "        # Select random files to add noise\n",
    "        noisy_files = sample(files, k=int(len(files) * noise_probability)) if files else []\n",
    "\n",
    "        for file_name in tqdm(files, desc=f\"Processing {subdir}\"):\n",
    "            file_path = os.path.join(subdir, file_name)\n",
    "            image = cv2.imread(file_path)\n",
    "\n",
    "            if image is None:\n",
    "                print(f\"Warning: Could not read {file_path}. Skipping.\")\n",
    "                continue\n",
    "\n",
    "            # Resize image to target size\n",
    "            resized_image = cv2.resize(image, target_size)\n",
    "\n",
    "            # Convert to RGB if not already\n",
    "            if len(resized_image.shape) == 2 or resized_image.shape[2] == 1:\n",
    "                resized_image = cv2.cvtColor(resized_image, cv2.COLOR_GRAY2RGB)\n",
    "\n",
    "            '''# Add noise if the file is selected\n",
    "            if file_name in noisy_files:\n",
    "                resized_image = add_random_noise(resized_image)'''\n",
    "\n",
    "            # Save the processed image (overwrite original file)\n",
    "            cv2.imwrite(file_path, resized_image)\n",
    "\n",
    "# Process train_images and test_images folders\n",
    "train_images_path = os.path.join(base_path, \"train_images\")\n",
    "test_images_path = os.path.join(base_path, \"test_images\")\n",
    "\n",
    "print(\"Processing train_images...\")\n",
    "process_folder(train_images_path)\n",
    "\n",
    "print(\"Processing test_images...\")\n",
    "process_folder(test_images_path)\n",
    "\n",
    "print(\"All images processed successfully.\")\n"
   ]
  },
  {
   "cell_type": "code",
   "execution_count": 2,
   "metadata": {
    "colab": {
     "base_uri": "https://localhost:8080/",
     "height": 304
    },
    "executionInfo": {
     "elapsed": 18491,
     "status": "error",
     "timestamp": 1732027030922,
     "user": {
      "displayName": "NITHIN SAI KELAVATHU",
      "userId": "10221293535913371192"
     },
     "user_tz": -330
    },
    "id": "M4zHgmTBzRqg",
    "outputId": "adae84f2-8157-4e2b-ec08-a4e2cf24a95b"
   },
   "outputs": [
    {
     "ename": "MessageError",
     "evalue": "Error: credential propagation was unsuccessful",
     "output_type": "error",
     "traceback": [
      "\u001b[0;31m---------------------------------------------------------------------------\u001b[0m",
      "\u001b[0;31mMessageError\u001b[0m                              Traceback (most recent call last)",
      "\u001b[0;32m<ipython-input-2-d5df0069828e>\u001b[0m in \u001b[0;36m<cell line: 2>\u001b[0;34m()\u001b[0m\n\u001b[1;32m      1\u001b[0m \u001b[0;32mfrom\u001b[0m \u001b[0mgoogle\u001b[0m\u001b[0;34m.\u001b[0m\u001b[0mcolab\u001b[0m \u001b[0;32mimport\u001b[0m \u001b[0mdrive\u001b[0m\u001b[0;34m\u001b[0m\u001b[0;34m\u001b[0m\u001b[0m\n\u001b[0;32m----> 2\u001b[0;31m \u001b[0mdrive\u001b[0m\u001b[0;34m.\u001b[0m\u001b[0mmount\u001b[0m\u001b[0;34m(\u001b[0m\u001b[0;34m'/content/drive'\u001b[0m\u001b[0;34m)\u001b[0m\u001b[0;34m\u001b[0m\u001b[0;34m\u001b[0m\u001b[0m\n\u001b[0m",
      "\u001b[0;32m/usr/local/lib/python3.10/dist-packages/google/colab/drive.py\u001b[0m in \u001b[0;36mmount\u001b[0;34m(mountpoint, force_remount, timeout_ms, readonly)\u001b[0m\n\u001b[1;32m     98\u001b[0m \u001b[0;32mdef\u001b[0m \u001b[0mmount\u001b[0m\u001b[0;34m(\u001b[0m\u001b[0mmountpoint\u001b[0m\u001b[0;34m,\u001b[0m \u001b[0mforce_remount\u001b[0m\u001b[0;34m=\u001b[0m\u001b[0;32mFalse\u001b[0m\u001b[0;34m,\u001b[0m \u001b[0mtimeout_ms\u001b[0m\u001b[0;34m=\u001b[0m\u001b[0;36m120000\u001b[0m\u001b[0;34m,\u001b[0m \u001b[0mreadonly\u001b[0m\u001b[0;34m=\u001b[0m\u001b[0;32mFalse\u001b[0m\u001b[0;34m)\u001b[0m\u001b[0;34m:\u001b[0m\u001b[0;34m\u001b[0m\u001b[0;34m\u001b[0m\u001b[0m\n\u001b[1;32m     99\u001b[0m   \u001b[0;34m\"\"\"Mount your Google Drive at the specified mountpoint path.\"\"\"\u001b[0m\u001b[0;34m\u001b[0m\u001b[0;34m\u001b[0m\u001b[0m\n\u001b[0;32m--> 100\u001b[0;31m   return _mount(\n\u001b[0m\u001b[1;32m    101\u001b[0m       \u001b[0mmountpoint\u001b[0m\u001b[0;34m,\u001b[0m\u001b[0;34m\u001b[0m\u001b[0;34m\u001b[0m\u001b[0m\n\u001b[1;32m    102\u001b[0m       \u001b[0mforce_remount\u001b[0m\u001b[0;34m=\u001b[0m\u001b[0mforce_remount\u001b[0m\u001b[0;34m,\u001b[0m\u001b[0;34m\u001b[0m\u001b[0;34m\u001b[0m\u001b[0m\n",
      "\u001b[0;32m/usr/local/lib/python3.10/dist-packages/google/colab/drive.py\u001b[0m in \u001b[0;36m_mount\u001b[0;34m(mountpoint, force_remount, timeout_ms, ephemeral, readonly)\u001b[0m\n\u001b[1;32m    135\u001b[0m   )\n\u001b[1;32m    136\u001b[0m   \u001b[0;32mif\u001b[0m \u001b[0mephemeral\u001b[0m\u001b[0;34m:\u001b[0m\u001b[0;34m\u001b[0m\u001b[0;34m\u001b[0m\u001b[0m\n\u001b[0;32m--> 137\u001b[0;31m     _message.blocking_request(\n\u001b[0m\u001b[1;32m    138\u001b[0m         \u001b[0;34m'request_auth'\u001b[0m\u001b[0;34m,\u001b[0m\u001b[0;34m\u001b[0m\u001b[0;34m\u001b[0m\u001b[0m\n\u001b[1;32m    139\u001b[0m         \u001b[0mrequest\u001b[0m\u001b[0;34m=\u001b[0m\u001b[0;34m{\u001b[0m\u001b[0;34m'authType'\u001b[0m\u001b[0;34m:\u001b[0m \u001b[0;34m'dfs_ephemeral'\u001b[0m\u001b[0;34m}\u001b[0m\u001b[0;34m,\u001b[0m\u001b[0;34m\u001b[0m\u001b[0;34m\u001b[0m\u001b[0m\n",
      "\u001b[0;32m/usr/local/lib/python3.10/dist-packages/google/colab/_message.py\u001b[0m in \u001b[0;36mblocking_request\u001b[0;34m(request_type, request, timeout_sec, parent)\u001b[0m\n\u001b[1;32m    174\u001b[0m       \u001b[0mrequest_type\u001b[0m\u001b[0;34m,\u001b[0m \u001b[0mrequest\u001b[0m\u001b[0;34m,\u001b[0m \u001b[0mparent\u001b[0m\u001b[0;34m=\u001b[0m\u001b[0mparent\u001b[0m\u001b[0;34m,\u001b[0m \u001b[0mexpect_reply\u001b[0m\u001b[0;34m=\u001b[0m\u001b[0;32mTrue\u001b[0m\u001b[0;34m\u001b[0m\u001b[0;34m\u001b[0m\u001b[0m\n\u001b[1;32m    175\u001b[0m   )\n\u001b[0;32m--> 176\u001b[0;31m   \u001b[0;32mreturn\u001b[0m \u001b[0mread_reply_from_input\u001b[0m\u001b[0;34m(\u001b[0m\u001b[0mrequest_id\u001b[0m\u001b[0;34m,\u001b[0m \u001b[0mtimeout_sec\u001b[0m\u001b[0;34m)\u001b[0m\u001b[0;34m\u001b[0m\u001b[0;34m\u001b[0m\u001b[0m\n\u001b[0m",
      "\u001b[0;32m/usr/local/lib/python3.10/dist-packages/google/colab/_message.py\u001b[0m in \u001b[0;36mread_reply_from_input\u001b[0;34m(message_id, timeout_sec)\u001b[0m\n\u001b[1;32m    101\u001b[0m     ):\n\u001b[1;32m    102\u001b[0m       \u001b[0;32mif\u001b[0m \u001b[0;34m'error'\u001b[0m \u001b[0;32min\u001b[0m \u001b[0mreply\u001b[0m\u001b[0;34m:\u001b[0m\u001b[0;34m\u001b[0m\u001b[0;34m\u001b[0m\u001b[0m\n\u001b[0;32m--> 103\u001b[0;31m         \u001b[0;32mraise\u001b[0m \u001b[0mMessageError\u001b[0m\u001b[0;34m(\u001b[0m\u001b[0mreply\u001b[0m\u001b[0;34m[\u001b[0m\u001b[0;34m'error'\u001b[0m\u001b[0;34m]\u001b[0m\u001b[0;34m)\u001b[0m\u001b[0;34m\u001b[0m\u001b[0;34m\u001b[0m\u001b[0m\n\u001b[0m\u001b[1;32m    104\u001b[0m       \u001b[0;32mreturn\u001b[0m \u001b[0mreply\u001b[0m\u001b[0;34m.\u001b[0m\u001b[0mget\u001b[0m\u001b[0;34m(\u001b[0m\u001b[0;34m'data'\u001b[0m\u001b[0;34m,\u001b[0m \u001b[0;32mNone\u001b[0m\u001b[0;34m)\u001b[0m\u001b[0;34m\u001b[0m\u001b[0;34m\u001b[0m\u001b[0m\n\u001b[1;32m    105\u001b[0m \u001b[0;34m\u001b[0m\u001b[0m\n",
      "\u001b[0;31mMessageError\u001b[0m: Error: credential propagation was unsuccessful"
     ]
    }
   ],
   "source": [
    "from google.colab import drive\n",
    "drive.mount('/content/drive')"
   ]
  },
  {
   "cell_type": "code",
   "execution_count": null,
   "metadata": {
    "id": "nsZRsK75OV82"
   },
   "outputs": [],
   "source": [
    "import cv2\n",
    "import mediapipe as mp\n",
    "import os\n",
    "import csv\n",
    "import time"
   ]
  },
  {
   "cell_type": "code",
   "execution_count": null,
   "metadata": {
    "colab": {
     "base_uri": "https://localhost:8080/"
    },
    "executionInfo": {
     "elapsed": 2028,
     "status": "ok",
     "timestamp": 1731824091476,
     "user": {
      "displayName": "SATYA SAI RAMESH PANCHAKARLA",
      "userId": "05061219670073955967"
     },
     "user_tz": -330
    },
    "id": "zZaQHVzZN8LK",
    "outputId": "2d168d2a-e0a4-4fac-f22c-d9160f2e2b93"
   },
   "outputs": [
    {
     "name": "stdout",
     "output_type": "stream",
     "text": [
      "torch.Size([1, 512, 5, 5])\n",
      "torch.Size([1, 512, 5, 5])\n",
      "torch.Size([1, 12800])\n",
      "torch.Size([1, 20])\n"
     ]
    }
   ],
   "source": [
    "import torch\n",
    "import torch.nn as nn\n",
    "\n",
    "\n",
    "class VGGFace160(nn.Module):\n",
    "    def __init__(self, num_classes=15):\n",
    "        super(VGGFace160, self).__init__()\n",
    "        self.features = nn.Sequential(\n",
    "            # Block 1\n",
    "            nn.Conv2d(3, 64, kernel_size=3, padding=1),\n",
    "            nn.ReLU(inplace=True),\n",
    "            nn.Conv2d(64, 64, kernel_size=3, padding=1),\n",
    "            nn.ReLU(inplace=True),\n",
    "            nn.MaxPool2d(kernel_size=2, stride=2),  # 80x80\n",
    "\n",
    "            # Block 2\n",
    "            nn.Conv2d(64, 128, kernel_size=3, padding=1),\n",
    "            nn.ReLU(inplace=True),\n",
    "            nn.Conv2d(128, 128, kernel_size=3, padding=1),\n",
    "            nn.ReLU(inplace=True),\n",
    "            nn.MaxPool2d(kernel_size=2, stride=2),  # 40x40\n",
    "\n",
    "            # Block 3\n",
    "            nn.Conv2d(128, 256, kernel_size=3, padding=1),\n",
    "            nn.ReLU(inplace=True),\n",
    "            nn.Conv2d(256, 256, kernel_size=3, padding=1),\n",
    "            nn.ReLU(inplace=True),\n",
    "            nn.Conv2d(256, 256, kernel_size=3, padding=1),\n",
    "            nn.ReLU(inplace=True),\n",
    "            nn.MaxPool2d(kernel_size=2, stride=2),  # 20x20\n",
    "\n",
    "            # Block 4\n",
    "            nn.Conv2d(256, 512, kernel_size=3, padding=1),\n",
    "            nn.ReLU(inplace=True),\n",
    "            nn.Conv2d(512, 512, kernel_size=3, padding=1),\n",
    "            nn.ReLU(inplace=True),\n",
    "            nn.Conv2d(512, 512, kernel_size=3, padding=1),\n",
    "            nn.ReLU(inplace=True),\n",
    "            nn.MaxPool2d(kernel_size=2, stride=2),  # 10x10\n",
    "\n",
    "            # Block 5\n",
    "            nn.Conv2d(512, 512, kernel_size=3, padding=1),\n",
    "            nn.ReLU(inplace=True),\n",
    "            nn.Conv2d(512, 512, kernel_size=3, padding=1),\n",
    "            nn.ReLU(inplace=True),\n",
    "            nn.Conv2d(512, 512, kernel_size=3, padding=1),\n",
    "            nn.ReLU(inplace=True),\n",
    "            nn.MaxPool2d(kernel_size=2, stride=2)  # 5x5\n",
    "\n",
    "            )\n",
    "\n",
    "        # Adjusted classifier for 160x160 input size\n",
    "        self.classifier = nn.Sequential(\n",
    "            nn.Linear(512 * 5 * 5, 4096),  # Adjusted for output size of 5x5\n",
    "            nn.ReLU(True),\n",
    "            nn.Dropout(),\n",
    "\n",
    "            nn.Linear(4096, 2048),\n",
    "            nn.ReLU(True),\n",
    "            nn.Dropout(),\n",
    "\n",
    "            nn.Linear(2048, 1024),\n",
    "            nn.ReLU(True),\n",
    "            nn.Dropout(),\n",
    "\n",
    "            nn.Linear(1024, 512),\n",
    "            nn.ReLU(True),\n",
    "            nn.Dropout(),\n",
    "\n",
    "            nn.Linear(512, num_classes),\n",
    "            nn.Softmax(dim=1)  # Softmax for classification output\n",
    "        )\n",
    "\n",
    "    def forward(self, x):\n",
    "        x = self.features(x)\n",
    "        print(x.shape)\n",
    "        x = x.view(x.size(0), -1)\n",
    "        print(x.shape)\n",
    "        x = self.classifier(x)\n",
    "        return x\n",
    "\n",
    "# Example of instantiating the model for 20 classes\n",
    "model = VGGFace160(num_classes=20)\n",
    "# Calculate the feature map size after the convolutional layers\n",
    "dummy_input = torch.randn(1, 3, 160, 160)  # Batch size 1, RGB image 160x160\n",
    "feature_maps = model.features(dummy_input)  # Replace `features` with your model's feature extractor\n",
    "print(feature_maps.shape)\n",
    "dummy_input = torch.randn(1, 3, 160, 160)\n",
    "output = model(dummy_input)\n",
    "print(output.shape)"
   ]
  },
  {
   "cell_type": "code",
   "execution_count": null,
   "metadata": {
    "colab": {
     "base_uri": "https://localhost:8080/"
    },
    "executionInfo": {
     "elapsed": 4611,
     "status": "ok",
     "timestamp": 1731816323983,
     "user": {
      "displayName": "SATYA SAI RAMESH PANCHAKARLA",
      "userId": "05061219670073955967"
     },
     "user_tz": -330
    },
    "id": "nJZ_kTiXOBox",
    "outputId": "dd1bc50a-0db2-4996-ec40-dc0f05501aee"
   },
   "outputs": [
    {
     "name": "stdout",
     "output_type": "stream",
     "text": [
      "/content/drive/MyDrive/CV_Project_2024-25iiits/dataset:\n",
      "register.csv  test_images  train_images\n",
      "\n",
      "/content/drive/MyDrive/CV_Project_2024-25iiits/dataset/test_images:\n",
      "1  10  11  12  13  14  15  16  17  18  19  2  20  3  4\t5  6  7  8  9\n",
      "\n",
      "/content/drive/MyDrive/CV_Project_2024-25iiits/dataset/test_images/1:\n",
      "image01.png  image02.png  image03.png  image04.png  image05.png\n",
      "\n",
      "/content/drive/MyDrive/CV_Project_2024-25iiits/dataset/test_images/10:\n",
      "image01.png  image02.png  image03.png  image04.png  image05.png\n",
      "\n",
      "/content/drive/MyDrive/CV_Project_2024-25iiits/dataset/test_images/11:\n",
      "image01.png  image02.png  image03.png  image04.png  image05.png\n",
      "\n",
      "/content/drive/MyDrive/CV_Project_2024-25iiits/dataset/test_images/12:\n",
      "image01.png  image02.png  image03.png  image04.png  image05.png\n",
      "\n",
      "/content/drive/MyDrive/CV_Project_2024-25iiits/dataset/test_images/13:\n",
      "image01.png  image02.png  image03.png  image04.png  image05.png\n",
      "\n",
      "/content/drive/MyDrive/CV_Project_2024-25iiits/dataset/test_images/14:\n",
      "image01.png  image02.png  image03.png  image04.png  image05.png\n",
      "\n",
      "/content/drive/MyDrive/CV_Project_2024-25iiits/dataset/test_images/15:\n",
      "image01.png  image02.png  image03.png  image04.png  image05.png\n",
      "\n",
      "/content/drive/MyDrive/CV_Project_2024-25iiits/dataset/test_images/16:\n",
      "image01.png  image02.png  image03.png  image04.png  image05.png\n",
      "\n",
      "/content/drive/MyDrive/CV_Project_2024-25iiits/dataset/test_images/17:\n",
      "image01.png  image02.png  image03.png  image04.png  image05.png\n",
      "\n",
      "/content/drive/MyDrive/CV_Project_2024-25iiits/dataset/test_images/18:\n",
      "image01.png  image02.png  image03.png  image04.png  image05.png\n",
      "\n",
      "/content/drive/MyDrive/CV_Project_2024-25iiits/dataset/test_images/19:\n",
      "image01.png  image02.png  image03.png  image04.png  image05.png\n",
      "\n",
      "/content/drive/MyDrive/CV_Project_2024-25iiits/dataset/test_images/2:\n",
      "image01.png  image02.png  image03.png  image04.png  image05.png\n",
      "\n",
      "/content/drive/MyDrive/CV_Project_2024-25iiits/dataset/test_images/20:\n",
      "image01.png  image02.png  image03.png  image04.png  image05.png\n",
      "\n",
      "/content/drive/MyDrive/CV_Project_2024-25iiits/dataset/test_images/3:\n",
      "image01.png  image02.png  image03.png  image04.png  image05.png\n",
      "\n",
      "/content/drive/MyDrive/CV_Project_2024-25iiits/dataset/test_images/4:\n",
      "image01.png  image02.png  image03.png  image04.png  image05.png\n",
      "\n",
      "/content/drive/MyDrive/CV_Project_2024-25iiits/dataset/test_images/5:\n",
      "image01.png  image02.png  image03.png  image04.png  image05.png\n",
      "\n",
      "/content/drive/MyDrive/CV_Project_2024-25iiits/dataset/test_images/6:\n",
      "image01.png  image02.png  image03.png  image04.png  image05.png\n",
      "\n",
      "/content/drive/MyDrive/CV_Project_2024-25iiits/dataset/test_images/7:\n",
      "image01.png  image02.png  image03.png  image04.png  image05.png\n",
      "\n",
      "/content/drive/MyDrive/CV_Project_2024-25iiits/dataset/test_images/8:\n",
      "image01.png  image02.png  image03.png  image04.png  image05.png\n",
      "\n",
      "/content/drive/MyDrive/CV_Project_2024-25iiits/dataset/test_images/9:\n",
      "image01.png  image02.png  image03.png  image04.png  image05.png\n",
      "\n",
      "/content/drive/MyDrive/CV_Project_2024-25iiits/dataset/train_images:\n",
      "1  10  11  12  13  14  15  16  17  18  19  2  20  3  4\t5  6  7  8  9\n",
      "\n",
      "/content/drive/MyDrive/CV_Project_2024-25iiits/dataset/train_images/1:\n",
      "image01.png  image06.png  image11.png  image16.png  image21.png  image26.png  image31.png\n",
      "image02.png  image07.png  image12.png  image17.png  image22.png  image27.png  image32.png\n",
      "image03.png  image08.png  image13.png  image18.png  image23.png  image28.png  image33.png\n",
      "image04.png  image09.png  image14.png  image19.png  image24.png  image29.png  image34.png\n",
      "image05.png  image10.png  image15.png  image20.png  image25.png  image30.png  image35.png\n",
      "\n",
      "/content/drive/MyDrive/CV_Project_2024-25iiits/dataset/train_images/10:\n",
      "image01.png  image06.png  image11.png  image16.png  image21.png  image26.png  image31.png\n",
      "image02.png  image07.png  image12.png  image17.png  image22.png  image27.png  image32.png\n",
      "image03.png  image08.png  image13.png  image18.png  image23.png  image28.png  image33.png\n",
      "image04.png  image09.png  image14.png  image19.png  image24.png  image29.png  image34.png\n",
      "image05.png  image10.png  image15.png  image20.png  image25.png  image30.png  image35.png\n",
      "\n",
      "/content/drive/MyDrive/CV_Project_2024-25iiits/dataset/train_images/11:\n",
      "image01.png  image07.png  image12.png  image17.png  image22.png  image27.png  image32.png\n",
      "image02.png  image08.png  image13.png  image18.png  image23.png  image28.png  image33.png\n",
      "image03.png  image09.png  image14.png  image19.png  image24.png  image29.png  image34.png\n",
      "image04.png  image10.png  image15.png  image20.png  image25.png  image30.png  image35.png\n",
      "image05.png  image11.png  image16.png  image21.png  image26.png  image31.png\n",
      "\n",
      "/content/drive/MyDrive/CV_Project_2024-25iiits/dataset/train_images/12:\n",
      "image01.png  image06.png  image11.png  image16.png  image21.png  image26.png  image31.png\n",
      "image02.png  image07.png  image12.png  image17.png  image22.png  image27.png  image32.png\n",
      "image03.png  image08.png  image13.png  image18.png  image23.png  image28.png  image33.png\n",
      "image04.png  image09.png  image14.png  image19.png  image24.png  image29.png  image34.png\n",
      "image05.png  image10.png  image15.png  image20.png  image25.png  image30.png  image35.png\n",
      "\n",
      "/content/drive/MyDrive/CV_Project_2024-25iiits/dataset/train_images/13:\n",
      "image01.png  image06.png  image11.png  image16.png  image21.png  image26.png  image31.png\n",
      "image02.png  image07.png  image12.png  image17.png  image22.png  image27.png  image32.png\n",
      "image03.png  image08.png  image13.png  image18.png  image23.png  image28.png  image33.png\n",
      "image04.png  image09.png  image14.png  image19.png  image24.png  image29.png  image34.png\n",
      "image05.png  image10.png  image15.png  image20.png  image25.png  image30.png  image35.png\n",
      "\n",
      "/content/drive/MyDrive/CV_Project_2024-25iiits/dataset/train_images/14:\n",
      "image01.png  image06.png  image11.png  image16.png  image21.png  image26.png  image31.png\n",
      "image02.png  image07.png  image12.png  image17.png  image22.png  image27.png  image32.png\n",
      "image03.png  image08.png  image13.png  image18.png  image23.png  image28.png  image33.png\n",
      "image04.png  image09.png  image14.png  image19.png  image24.png  image29.png  image34.png\n",
      "image05.png  image10.png  image15.png  image20.png  image25.png  image30.png  image35.png\n",
      "\n",
      "/content/drive/MyDrive/CV_Project_2024-25iiits/dataset/train_images/15:\n",
      "image01.png  image06.png  image11.png  image16.png  image21.png  image26.png  image32.png\n",
      "image02.png  image07.png  image12.png  image17.png  image22.png  image27.png  image33.png\n",
      "image03.png  image08.png  image13.png  image18.png  image23.png  image28.png  image34.png\n",
      "image04.png  image09.png  image14.png  image19.png  image24.png  image30.png  image35.png\n",
      "image05.png  image10.png  image15.png  image20.png  image25.png  image31.png\n",
      "\n",
      "/content/drive/MyDrive/CV_Project_2024-25iiits/dataset/train_images/16:\n",
      "image01.png  image06.png  image11.png  image16.png  image21.png  image26.png  image31.png\n",
      "image02.png  image07.png  image12.png  image17.png  image22.png  image27.png  image32.png\n",
      "image03.png  image08.png  image13.png  image18.png  image23.png  image28.png  image33.png\n",
      "image04.png  image09.png  image14.png  image19.png  image24.png  image29.png  image34.png\n",
      "image05.png  image10.png  image15.png  image20.png  image25.png  image30.png  image35.png\n",
      "\n",
      "/content/drive/MyDrive/CV_Project_2024-25iiits/dataset/train_images/17:\n",
      "image01.png  image06.png  image11.png  image16.png  image21.png  image26.png  image31.png\n",
      "image02.png  image07.png  image12.png  image17.png  image22.png  image27.png  image32.png\n",
      "image03.png  image08.png  image13.png  image18.png  image23.png  image28.png  image33.png\n",
      "image04.png  image09.png  image14.png  image19.png  image24.png  image29.png  image34.png\n",
      "image05.png  image10.png  image15.png  image20.png  image25.png  image30.png  image35.png\n",
      "\n",
      "/content/drive/MyDrive/CV_Project_2024-25iiits/dataset/train_images/18:\n",
      "image01.png  image06.png  image12.png  image17.png  image22.png  image27.png  image32.png\n",
      "image02.png  image07.png  image13.png  image18.png  image23.png  image28.png  image33.png\n",
      "image03.png  image08.png  image14.png  image19.png  image24.png  image29.png  image34.png\n",
      "image04.png  image10.png  image15.png  image20.png  image25.png  image30.png  image35.png\n",
      "image05.png  image11.png  image16.png  image21.png  image26.png  image31.png\n",
      "\n",
      "/content/drive/MyDrive/CV_Project_2024-25iiits/dataset/train_images/19:\n",
      "image01.png  image06.png  image11.png  image16.png  image21.png  image26.png  image31.png\n",
      "image02.png  image07.png  image12.png  image17.png  image22.png  image27.png  image32.png\n",
      "image03.png  image08.png  image13.png  image18.png  image23.png  image28.png  image33.png\n",
      "image04.png  image09.png  image14.png  image19.png  image24.png  image29.png  image34.png\n",
      "image05.png  image10.png  image15.png  image20.png  image25.png  image30.png  image35.png\n",
      "\n",
      "/content/drive/MyDrive/CV_Project_2024-25iiits/dataset/train_images/2:\n",
      "image01.png  image06.png  image11.png  image16.png  image21.png  image26.png  image31.png\n",
      "image02.png  image07.png  image12.png  image17.png  image22.png  image27.png  image32.png\n",
      "image03.png  image08.png  image13.png  image18.png  image23.png  image28.png  image33.png\n",
      "image04.png  image09.png  image14.png  image19.png  image24.png  image29.png  image34.png\n",
      "image05.png  image10.png  image15.png  image20.png  image25.png  image30.png  image35.png\n",
      "\n",
      "/content/drive/MyDrive/CV_Project_2024-25iiits/dataset/train_images/20:\n",
      "image01.png  image06.png  image11.png  image16.png  image21.png  image26.png  image31.png\n",
      "image02.png  image07.png  image12.png  image17.png  image22.png  image27.png  image32.png\n",
      "image03.png  image08.png  image13.png  image18.png  image23.png  image28.png  image33.png\n",
      "image04.png  image09.png  image14.png  image19.png  image24.png  image29.png  image34.png\n",
      "image05.png  image10.png  image15.png  image20.png  image25.png  image30.png  image35.png\n",
      "\n",
      "/content/drive/MyDrive/CV_Project_2024-25iiits/dataset/train_images/3:\n",
      "image01.png  image06.png  image11.png  image16.png  image21.png  image26.png  image31.png\n",
      "image02.png  image07.png  image12.png  image17.png  image22.png  image27.png  image32.png\n",
      "image03.png  image08.png  image13.png  image18.png  image23.png  image28.png  image33.png\n",
      "image04.png  image09.png  image14.png  image19.png  image24.png  image29.png  image34.png\n",
      "image05.png  image10.png  image15.png  image20.png  image25.png  image30.png  image35.png\n",
      "\n",
      "/content/drive/MyDrive/CV_Project_2024-25iiits/dataset/train_images/4:\n",
      "image01.png  image06.png  image11.png  image16.png  image21.png  image26.png  image31.png\n",
      "image02.png  image07.png  image12.png  image17.png  image22.png  image27.png  image32.png\n",
      "image03.png  image08.png  image13.png  image18.png  image23.png  image28.png  image33.png\n",
      "image04.png  image09.png  image14.png  image19.png  image24.png  image29.png  image34.png\n",
      "image05.png  image10.png  image15.png  image20.png  image25.png  image30.png  image35.png\n",
      "\n",
      "/content/drive/MyDrive/CV_Project_2024-25iiits/dataset/train_images/5:\n",
      "image01.png  image06.png  image11.png  image16.png  image21.png  image26.png  image31.png\n",
      "image02.png  image07.png  image12.png  image17.png  image22.png  image27.png  image32.png\n",
      "image03.png  image08.png  image13.png  image18.png  image23.png  image28.png  image33.png\n",
      "image04.png  image09.png  image14.png  image19.png  image24.png  image29.png  image34.png\n",
      "image05.png  image10.png  image15.png  image20.png  image25.png  image30.png  image35.png\n",
      "\n",
      "/content/drive/MyDrive/CV_Project_2024-25iiits/dataset/train_images/6:\n",
      "image01.png  image06.png  image11.png  image16.png  image21.png  image26.png  image31.png\n",
      "image02.png  image07.png  image12.png  image17.png  image22.png  image27.png  image32.png\n",
      "image03.png  image08.png  image13.png  image18.png  image23.png  image28.png  image33.png\n",
      "image04.png  image09.png  image14.png  image19.png  image24.png  image29.png  image34.png\n",
      "image05.png  image10.png  image15.png  image20.png  image25.png  image30.png  image35.png\n",
      "\n",
      "/content/drive/MyDrive/CV_Project_2024-25iiits/dataset/train_images/7:\n",
      "image01.png  image06.png  image11.png  image16.png  image21.png  image26.png  image31.png\n",
      "image02.png  image07.png  image12.png  image17.png  image22.png  image27.png  image32.png\n",
      "image03.png  image08.png  image13.png  image18.png  image23.png  image28.png  image33.png\n",
      "image04.png  image09.png  image14.png  image19.png  image24.png  image29.png  image34.png\n",
      "image05.png  image10.png  image15.png  image20.png  image25.png  image30.png  image35.png\n",
      "\n",
      "/content/drive/MyDrive/CV_Project_2024-25iiits/dataset/train_images/8:\n",
      "image01.png  image06.png  image12.png  image17.png  image22.png  image27.png  image32.png\n",
      "image02.png  image07.png  image13.png  image18.png  image23.png  image28.png  image33.png\n",
      "image03.png  image09.png  image14.png  image19.png  image24.png  image29.png  image34.png\n",
      "image04.png  image10.png  image15.png  image20.png  image25.png  image30.png  image35.png\n",
      "image05.png  image11.png  image16.png  image21.png  image26.png  image31.png\n",
      "\n",
      "/content/drive/MyDrive/CV_Project_2024-25iiits/dataset/train_images/9:\n",
      "image01.png  image06.png  image11.png  image16.png  image21.png  image26.png  image31.png\n",
      "image02.png  image07.png  image12.png  image17.png  image22.png  image27.png  image32.png\n",
      "image03.png  image08.png  image13.png  image18.png  image23.png  image28.png  image33.png\n",
      "image04.png  image09.png  image14.png  image19.png  image24.png  image29.png  image34.png\n",
      "image05.png  image10.png  image15.png  image20.png  image25.png  image30.png  image35.png\n"
     ]
    }
   ],
   "source": [
    "!ls -R /content/drive/MyDrive/CV_Project_2024-25iiits/dataset\n"
   ]
  },
  {
   "cell_type": "code",
   "execution_count": null,
   "metadata": {
    "colab": {
     "base_uri": "https://localhost:8080/"
    },
    "executionInfo": {
     "elapsed": 522,
     "status": "ok",
     "timestamp": 1731824709734,
     "user": {
      "displayName": "SATYA SAI RAMESH PANCHAKARLA",
      "userId": "05061219670073955967"
     },
     "user_tz": -330
    },
    "id": "ny6RJgsYy95r",
    "outputId": "8f24fedf-e41b-40c2-b35c-1c06b5c4c2d3"
   },
   "outputs": [
    {
     "name": "stdout",
     "output_type": "stream",
     "text": [
      "[ 1  2  3  4  5  6  7  8  9 10 11 12 13 14 15 16 17 18 19 20]\n"
     ]
    }
   ],
   "source": [
    "print(df['class'].unique())"
   ]
  },
  {
   "cell_type": "code",
   "execution_count": null,
   "metadata": {
    "id": "CvitDmwddB_Q"
   },
   "outputs": [],
   "source": [
    "import torch\n",
    "import torch.nn as nn\n",
    "import torch.optim as optim\n",
    "import numpy as np\n",
    "from torch.utils.data import DataLoader, Dataset\n",
    "import cv2\n",
    "from tqdm import tqdm\n",
    "from torchvision import transforms, datasets\n",
    "import matplotlib.pyplot as plt\n",
    "from sklearn.metrics import classification_report, confusion_matrix\n",
    "import os\n",
    "from PIL import Image\n",
    "import random\n",
    "import pandas as pd\n",
    "\n",
    "# Load the CSV file\n",
    "df = pd.read_csv('/content/drive/MyDrive/CV_Project_2024-25iiits/dataset/register.csv')\n",
    "\n",
    "# Get the number of unique classes\n",
    "num_classes = df['class'].nunique()\n",
    "\n",
    "# Parameters\n",
    "NUM_CLASSES = 20\n",
    "EPOCHS = 25\n",
    "BATCH_SIZE = 35\n",
    "IMAGE_HEIGHT = 160\n",
    "IMAGE_WIDTH = 160\n",
    "TRAINING_DATA_DIRECTORY = \"/content/drive/MyDrive/CV_Project_2024-25iiits/dataset/train_images\"\n",
    "TESTING_DATA_DIRECTORY = \"/content/drive/MyDrive/CV_Project_2024-25iiits/dataset/test_images\"\n",
    "\n",
    "# Add random noise to images\n",
    "def add_noise(img):\n",
    "    VARIABILITY = 35\n",
    "    deviation = VARIABILITY * random.random()\n",
    "    noise = np.random.normal(0, deviation, img.shape)\n",
    "    img += noise\n",
    "    np.clip(img, 0., 255.)\n",
    "    return img\n",
    "\n",
    "class IIITS_boys_hostel_FacesDataset(Dataset):\n",
    "    def __init__(self, dataset_path, transform=None):\n",
    "        self.dataset_path = dataset_path\n",
    "        self.transform = transform\n",
    "        self.image_paths = []\n",
    "        self.labels = []\n",
    "        self.class_to_idx = {}\n",
    "\n",
    "        # Create a mapping from class folder names to integer labels\n",
    "        for class_folder in os.listdir(dataset_path):\n",
    "            class_folder_path = os.path.join(dataset_path, class_folder)\n",
    "            if os.path.isdir(class_folder_path):\n",
    "                class_index = len(self.class_to_idx)  # Assign index based on current length\n",
    "                self.class_to_idx[class_folder] = class_index\n",
    "                print(self.class_to_idx[class_folder])# Store class index as 0-based\n",
    "                for img_file in os.listdir(class_folder_path):\n",
    "                    if img_file.endswith(('.png', '.jpg', '.jpeg')):  # Ensure the file is an image\n",
    "                        self.image_paths.append(os.path.join(class_folder_path, img_file))\n",
    "                        self.labels.append(class_index)\n",
    "\n",
    "    def __len__(self):\n",
    "        return len(self.image_paths)\n",
    "\n",
    "    def __getitem__(self, idx):\n",
    "        image_path = self.image_paths[idx]\n",
    "        image = Image.open(image_path).convert('RGB') # grayscale image\n",
    "        label = self.labels[idx]  # No need to adjust label here\n",
    "\n",
    "        if self.transform:\n",
    "            image = self.transform(image)\n",
    "\n",
    "        return image, label\n",
    "\n",
    "# Transformations\n",
    "transform = transforms.Compose([\n",
    "    transforms.Resize((160, 160)),  # Resize to match input size\n",
    "    transforms.ToTensor(),\n",
    "    transforms.Normalize(mean=[0.5, 0.5, 0.5], std=[0.5, 0.5, 0.5])  # Normalize to [-1, 1]\n",
    "])\n",
    "\n",
    "# Load datasets\n",
    "train_dataset = IIITS_boys_hostel_FacesDataset(TRAINING_DATA_DIRECTORY, transform=transform)\n",
    "test_dataset = IIITS_boys_hostel_FacesDataset(TESTING_DATA_DIRECTORY, transform=transform)\n",
    "\n",
    "train_loader = DataLoader(train_dataset, batch_size=BATCH_SIZE, shuffle=True)\n",
    "test_loader = DataLoader(test_dataset, batch_size=BATCH_SIZE, shuffle=False)\n",
    "\n",
    "import torch\n",
    "import torch.nn as nn\n",
    "import torch.nn.functional as F\n",
    "\n",
    "class VGGFace160(nn.Module):\n",
    "    def __init__(self, num_classes=15):\n",
    "        super(VGGFace160, self).__init__()\n",
    "        self.features = nn.Sequential(\n",
    "            # Block 1\n",
    "            nn.Conv2d(3, 64, kernel_size=3, padding=1),\n",
    "            nn.ReLU(inplace=True),\n",
    "            nn.Conv2d(64, 64, kernel_size=3, padding=1),\n",
    "            nn.ReLU(inplace=True),\n",
    "            nn.MaxPool2d(kernel_size=2, stride=2),  # 80x80\n",
    "\n",
    "            # Block 2\n",
    "            nn.Conv2d(64, 128, kernel_size=3, padding=1),\n",
    "            nn.ReLU(inplace=True),\n",
    "            nn.Conv2d(128, 128, kernel_size=3, padding=1),\n",
    "            nn.ReLU(inplace=True),\n",
    "            nn.MaxPool2d(kernel_size=2, stride=2),  # 40x40\n",
    "\n",
    "            # Block 3\n",
    "            nn.Conv2d(128, 256, kernel_size=3, padding=1),\n",
    "            nn.ReLU(inplace=True),\n",
    "            nn.Conv2d(256, 256, kernel_size=3, padding=1),\n",
    "            nn.ReLU(inplace=True),\n",
    "            nn.Conv2d(256, 256, kernel_size=3, padding=1),\n",
    "            nn.ReLU(inplace=True),\n",
    "            nn.MaxPool2d(kernel_size=2, stride=2),  # 20x20\n",
    "\n",
    "            # Block 4\n",
    "            nn.Conv2d(256, 512, kernel_size=3, padding=1),\n",
    "            nn.ReLU(inplace=True),\n",
    "            nn.Conv2d(512, 512, kernel_size=3, padding=1),\n",
    "            nn.ReLU(inplace=True),\n",
    "            nn.Conv2d(512, 512, kernel_size=3, padding=1),\n",
    "            nn.ReLU(inplace=True),\n",
    "            nn.MaxPool2d(kernel_size=2, stride=2),  # 10x10\n",
    "\n",
    "            # Block 5\n",
    "            nn.Conv2d(512, 512, kernel_size=3, padding=1),\n",
    "            nn.ReLU(inplace=True),\n",
    "            nn.Conv2d(512, 512, kernel_size=3, padding=1),\n",
    "            nn.ReLU(inplace=True),\n",
    "            nn.Conv2d(512, 512, kernel_size=3, padding=1),\n",
    "            nn.ReLU(inplace=True),\n",
    "            nn.MaxPool2d(kernel_size=2, stride=2)  # 5x5\n",
    "\n",
    "            )\n",
    "\n",
    "        # Adjusted classifier for 160x160 input size\n",
    "        self.classifier = nn.Sequential(\n",
    "            nn.Linear(512 * 5 * 5, 4096),  # Adjusted for output size of 5x5\n",
    "            nn.ReLU(True),\n",
    "            nn.Dropout(),\n",
    "\n",
    "            nn.Linear(4096, 2048),\n",
    "            nn.ReLU(True),\n",
    "            nn.Dropout(),\n",
    "\n",
    "            nn.Linear(2048, 1024),\n",
    "            nn.ReLU(True),\n",
    "            nn.Dropout(),\n",
    "\n",
    "            nn.Linear(1024, 512),\n",
    "            nn.ReLU(True),\n",
    "            nn.Dropout(),\n",
    "\n",
    "            nn.Linear(512, num_classes),\n",
    "            nn.Softmax(dim=1)  # Softmax for classification output\n",
    "        )\n",
    "\n",
    "    def forward(self, x):\n",
    "        x = self.features(x)\n",
    "        print(x.shape)\n",
    "        x = x.view(x.size(0), -1)\n",
    "        print(x.shape)\n",
    "        x = self.classifier(x)\n",
    "        return x\n",
    "\n",
    "# Example of instantiating the model for 20 classes\n",
    "model = VGGFace160(num_classes=20)\n",
    "\n",
    "\n",
    "# Instantiate the model, define the loss function and optimizer\n",
    "device = torch.device(\"cuda\" if torch.cuda.is_available() else \"cpu\")\n",
    "model = VGGFace160().to(device)\n",
    "criterion = nn.CrossEntropyLoss()\n",
    "optimizer = optim.Adam(model.parameters(), lr=0.0003)\n",
    "\n",
    "# Training Loop\n",
    "def train_model(model, train_loader, criterion, optimizer, epochs):\n",
    "    model.train()\n",
    "    for epoch in range(epochs):\n",
    "        running_loss = 0.0\n",
    "        correct = 0\n",
    "        total = 0\n",
    "        for images, labels in tqdm(train_loader):\n",
    "            images, labels = images.to(device), labels.to(device)\n",
    "\n",
    "            optimizer.zero_grad()\n",
    "\n",
    "            outputs = model(images)\n",
    "            loss = criterion(outputs, labels)\n",
    "            loss.backward()\n",
    "            optimizer.step()\n",
    "\n",
    "            running_loss += loss.item()\n",
    "            _, predicted = torch.max(outputs.data, 1)\n",
    "            total += labels.size(0)\n",
    "            correct += (predicted == labels).sum().item()\n",
    "\n",
    "        print(f'Epoch [{epoch+1}/{epochs}], Loss: {running_loss/len(train_loader):.4f}, Accuracy: {100 * correct / total:.2f}%')\n",
    "\n",
    "# Evaluation\n",
    "def evaluate_model(model, test_loader, criterion):\n",
    "    model.eval()\n",
    "    correct = 0\n",
    "    total = 0\n",
    "    all_preds = []\n",
    "    all_labels = []\n",
    "    with torch.no_grad():\n",
    "        for images, labels in tqdm(test_loader):\n",
    "            images, labels = images.to(device), labels.to(device)\n",
    "            outputs = model(images)\n",
    "            _, predicted = torch.max(outputs.data, 1)\n",
    "            total += labels.size(0)\n",
    "            correct += (predicted == labels).sum().item()\n",
    "\n",
    "            all_preds.extend(predicted.cpu().numpy())\n",
    "            all_labels.extend(labels.cpu().numpy())\n",
    "\n",
    "    print(f'Accuracy: {100 * correct / total:.2f}%')\n",
    "    print(\"Classification Report:\\n\", classification_report(all_labels, all_preds))\n",
    "    print(\"Confusion Matrix:\\n\", confusion_matrix(all_labels, all_preds))\n",
    "\n",
    "# Train the model\n",
    "train_model(model, train_loader, criterion, optimizer, EPOCHS)\n",
    "\n",
    "# Evaluate the model\n",
    "evaluate_model(model, test_loader, criterion)\n",
    "\n",
    "# Mapping function to convert class indices to class names\n",
    "def map_class_index_to_name(class_index):\n",
    "    idx_to_class = {v: k for k, v in train_dataset.class_to_idx.items()}\n",
    "    return idx_to_class.get(class_index, \"Unknown\")\n",
    "'''\n",
    "# Plot sample predictions with class mapping\n",
    "def plot_sample_predictions(model, test_loader):\n",
    "    model.eval()\n",
    "    sample_images, sample_labels = next(iter(test_loader))\n",
    "    sample_images = sample_images.to(device)\n",
    "    outputs = model(sample_images)\n",
    "    _, predicted = torch.max(outputs.data, 1)\n",
    "\n",
    "    fig, axes = plt.subplots(3, 3, figsize=(9, 9))\n",
    "    for i, ax in enumerate(axes.flat):\n",
    "        ax.imshow(sample_images[i].cpu().squeeze(), cmap='gray')\n",
    "        true_label = map_class_index_to_name(sample_labels[i].item())\n",
    "        predicted_label = map_class_index_to_name(predicted[i].item())\n",
    "        ax.set_title(f\"Pred: {predicted_label}, True: {true_label}\")\n",
    "        ax.axis('off')\n",
    "    plt.tight_layout()\n",
    "    plt.show()\n",
    "\n",
    "# Plot predictions\n",
    "plot_sample_predictions(model, test_loader)'''\n"
   ]
  },
  {
   "cell_type": "code",
   "execution_count": null,
   "metadata": {
    "colab": {
     "background_save": true,
     "base_uri": "https://localhost:8080/"
    },
    "id": "O9q89TIg8yGu",
    "outputId": "1d802f73-f8b1-429e-a309-04f522d2f097"
   },
   "outputs": [
    {
     "name": "stderr",
     "output_type": "stream",
     "text": [
      "100%|██████████| 20/20 [13:37<00:00, 40.88s/it]\n"
     ]
    },
    {
     "name": "stdout",
     "output_type": "stream",
     "text": [
      "Epoch [1/25], Loss: 2.9958, Accuracy: 4.17%\n"
     ]
    },
    {
     "name": "stderr",
     "output_type": "stream",
     "text": [
      "100%|██████████| 20/20 [13:09<00:00, 39.48s/it]\n"
     ]
    },
    {
     "name": "stdout",
     "output_type": "stream",
     "text": [
      "Epoch [2/25], Loss: 2.9958, Accuracy: 5.17%\n"
     ]
    },
    {
     "name": "stderr",
     "output_type": "stream",
     "text": [
      " 20%|██        | 4/20 [02:37<10:29, 39.37s/it]"
     ]
    }
   ],
   "source": [
    "import torch\n",
    "import torch.nn as nn\n",
    "import torch.optim as optim\n",
    "import numpy as np\n",
    "from torch.utils.data import DataLoader, Dataset\n",
    "import os\n",
    "from PIL import Image\n",
    "import random\n",
    "from torchvision import transforms\n",
    "from tqdm import tqdm\n",
    "from sklearn.metrics import classification_report, confusion_matrix\n",
    "\n",
    "# Parameters\n",
    "NUM_CLASSES = 22\n",
    "EPOCHS = 25\n",
    "BATCH_SIZE = 35\n",
    "IMAGE_HEIGHT = 160\n",
    "IMAGE_WIDTH = 160\n",
    "TRAINING_DATA_DIRECTORY = \"/content/drive/MyDrive/CV_Project_2024-25iiits/dataset/train_images\"\n",
    "TESTING_DATA_DIRECTORY = \"/content/drive/MyDrive/CV_Project_2024-25iiits/dataset/test_images\"\n",
    "\n",
    "# Add random noise to images\n",
    "def add_noise(img):\n",
    "    VARIABILITY = 35\n",
    "    deviation = VARIABILITY * random.random()\n",
    "    noise = np.random.normal(0, deviation, img.shape)\n",
    "    img += noise\n",
    "    np.clip(img, 0., 255.)\n",
    "    return img\n",
    "\n",
    "class IIITS_boys_hostel_FacesDataset(Dataset):\n",
    "    def __init__(self, dataset_path, transform=None):\n",
    "        self.dataset_path = dataset_path\n",
    "        self.transform = transform\n",
    "        self.image_paths = []\n",
    "        self.labels = []\n",
    "        self.class_to_idx = {}\n",
    "\n",
    "        # Create a mapping from class folder names to integer labels\n",
    "        for class_folder in os.listdir(dataset_path):\n",
    "            class_folder_path = os.path.join(dataset_path, class_folder)\n",
    "            if os.path.isdir(class_folder_path):\n",
    "                class_index = len(self.class_to_idx)  # Assign index based on current length\n",
    "                self.class_to_idx[class_folder] = class_index  # Store class index as 0-based\n",
    "                for img_file in os.listdir(class_folder_path):\n",
    "                    if img_file.endswith(('.png', '.jpg', '.jpeg')):  # Ensure the file is an image\n",
    "                        self.image_paths.append(os.path.join(class_folder_path, img_file))\n",
    "                        self.labels.append(class_index)\n",
    "\n",
    "    def __len__(self):\n",
    "        return len(self.image_paths)\n",
    "\n",
    "    def __getitem__(self, idx):\n",
    "        image_path = self.image_paths[idx]\n",
    "        image = Image.open(image_path).convert('RGB')  # Ensure RGB image\n",
    "        label = self.labels[idx]  # Label does not need adjustment\n",
    "\n",
    "        if self.transform:\n",
    "            image = self.transform(image)\n",
    "\n",
    "        return image, label\n",
    "\n",
    "# Transformations\n",
    "transform = transforms.Compose([\n",
    "    transforms.Resize((160, 160)),  # Resize to match input size\n",
    "    transforms.ToTensor(),\n",
    "    transforms.Normalize(mean=[0.5, 0.5, 0.5], std=[0.5, 0.5, 0.5])  # Normalize to [-1, 1]\n",
    "])\n",
    "\n",
    "# Load datasets\n",
    "train_dataset = IIITS_boys_hostel_FacesDataset(TRAINING_DATA_DIRECTORY, transform=transform)\n",
    "test_dataset = IIITS_boys_hostel_FacesDataset(TESTING_DATA_DIRECTORY, transform=transform)\n",
    "\n",
    "train_loader = DataLoader(train_dataset, batch_size=BATCH_SIZE, shuffle=True)\n",
    "test_loader = DataLoader(test_dataset, batch_size=BATCH_SIZE, shuffle=False)\n",
    "\n",
    "# Define the VGGFace160 model\n",
    "class VGGFace160(nn.Module):\n",
    "    def __init__(self, num_classes=20):\n",
    "        super(VGGFace160, self).__init__()\n",
    "        self.features = nn.Sequential(\n",
    "            # Block 1\n",
    "            nn.Conv2d(3, 64, kernel_size=3, padding=1),\n",
    "            nn.ReLU(inplace=True),\n",
    "            nn.Conv2d(64, 64, kernel_size=3, padding=1),\n",
    "            nn.ReLU(inplace=True),\n",
    "            nn.MaxPool2d(kernel_size=2, stride=2),  # 80x80\n",
    "\n",
    "            # Block 2\n",
    "            nn.Conv2d(64, 128, kernel_size=3, padding=1),\n",
    "            nn.ReLU(inplace=True),\n",
    "            nn.Conv2d(128, 128, kernel_size=3, padding=1),\n",
    "            nn.ReLU(inplace=True),\n",
    "            nn.MaxPool2d(kernel_size=2, stride=2),  # 40x40\n",
    "\n",
    "            # Block 3\n",
    "            nn.Conv2d(128, 256, kernel_size=3, padding=1),\n",
    "            nn.ReLU(inplace=True),\n",
    "            nn.Conv2d(256, 256, kernel_size=3, padding=1),\n",
    "            nn.ReLU(inplace=True),\n",
    "            nn.Conv2d(256, 256, kernel_size=3, padding=1),\n",
    "            nn.ReLU(inplace=True),\n",
    "            nn.MaxPool2d(kernel_size=2, stride=2),  # 20x20\n",
    "\n",
    "            # Block 4\n",
    "            nn.Conv2d(256, 512, kernel_size=3, padding=1),\n",
    "            nn.ReLU(inplace=True),\n",
    "            nn.Conv2d(512, 512, kernel_size=3, padding=1),\n",
    "            nn.ReLU(inplace=True),\n",
    "            nn.Conv2d(512, 512, kernel_size=3, padding=1),\n",
    "            nn.ReLU(inplace=True),\n",
    "            nn.MaxPool2d(kernel_size=2, stride=2),  # 10x10\n",
    "\n",
    "            # Block 5\n",
    "            nn.Conv2d(512, 512, kernel_size=3, padding=1),\n",
    "            nn.ReLU(inplace=True),\n",
    "            nn.Conv2d(512, 512, kernel_size=3, padding=1),\n",
    "            nn.ReLU(inplace=True),\n",
    "            nn.Conv2d(512, 512, kernel_size=3, padding=1),\n",
    "            nn.ReLU(inplace=True),\n",
    "            nn.MaxPool2d(kernel_size=2, stride=2)  # 5x5\n",
    "        )\n",
    "\n",
    "        # Adjusted classifier for 160x160 input size\n",
    "        self.classifier = nn.Sequential(\n",
    "            nn.Linear(512 * 5 * 5, 4096),  # Adjusted for output size of 5x5\n",
    "            nn.ReLU(True),\n",
    "            nn.Dropout(),\n",
    "\n",
    "            nn.Linear(4096, 2048),\n",
    "            nn.ReLU(True),\n",
    "            nn.Dropout(),\n",
    "\n",
    "            nn.Linear(2048, 1024),\n",
    "            nn.ReLU(True),\n",
    "            nn.Dropout(),\n",
    "\n",
    "            nn.Linear(1024, 512),\n",
    "            nn.ReLU(True),\n",
    "            nn.Dropout(),\n",
    "\n",
    "            nn.Linear(512, num_classes),\n",
    "            nn.Softmax(dim=1)  # Softmax for classification output\n",
    "        )\n",
    "\n",
    "    def forward(self, x):\n",
    "        x = self.features(x)\n",
    "        x = x.view(x.size(0), -1)  # Flatten before passing to classifier\n",
    "        x = self.classifier(x)\n",
    "        return x\n",
    "\n",
    "# Instantiate the model for 20 classes\n",
    "model = VGGFace160(num_classes=NUM_CLASSES)\n",
    "\n",
    "# Instantiate the model, define the loss function and optimizer\n",
    "device = torch.device(\"cuda\" if torch.cuda.is_available() else \"cpu\")\n",
    "model = model.to(device)\n",
    "criterion = nn.CrossEntropyLoss()\n",
    "optimizer = optim.Adam(model.parameters(), lr=0.0003)\n",
    "\n",
    "# Training Loop\n",
    "def train_model(model, train_loader, criterion, optimizer, epochs):\n",
    "    model.train()\n",
    "    for epoch in range(epochs):\n",
    "        running_loss = 0.0\n",
    "        correct = 0\n",
    "        total = 0\n",
    "        for images, labels in tqdm(train_loader):\n",
    "            images, labels = images.to(device), labels.to(device)\n",
    "\n",
    "            optimizer.zero_grad()\n",
    "\n",
    "            outputs = model(images)\n",
    "            loss = criterion(outputs, labels)\n",
    "            loss.backward()\n",
    "            optimizer.step()\n",
    "\n",
    "            running_loss += loss.item()\n",
    "            _, predicted = torch.max(outputs.data, 1)\n",
    "            total += labels.size(0)\n",
    "            correct += (predicted == labels).sum().item()\n",
    "\n",
    "        print(f'Epoch [{epoch+1}/{epochs}], Loss: {running_loss/len(train_loader):.4f}, Accuracy: {100 * correct / total:.2f}%')\n",
    "\n",
    "# Evaluation\n",
    "def evaluate_model(model, test_loader, criterion):\n",
    "    model.eval()\n",
    "    correct = 0\n",
    "    total = 0\n",
    "    all_preds = []\n",
    "    all_labels = []\n",
    "    with torch.no_grad():\n",
    "        for images, labels in tqdm(test_loader):\n",
    "            images, labels = images.to(device), labels.to(device)\n",
    "            outputs = model(images)\n",
    "            _, predicted = torch.max(outputs.data, 1)\n",
    "            total += labels.size(0)\n",
    "            correct += (predicted == labels).sum().item()\n",
    "\n",
    "            all_preds.extend(predicted.cpu().numpy())\n",
    "            all_labels.extend(labels.cpu().numpy())\n",
    "\n",
    "    print(f'Accuracy: {100 * correct / total:.2f}%')\n",
    "    print(\"Classification Report:\\n\", classification_report(all_labels, all_preds))\n",
    "    print(\"Confusion Matrix:\\n\", confusion_matrix(all_labels, all_preds))\n",
    "\n",
    "# Train the model\n",
    "train_model(model, train_loader, criterion, optimizer, EPOCHS)\n",
    "\n",
    "# Evaluate the model\n",
    "evaluate_model(model, test_loader, criterion)\n",
    "\n",
    "# Mapping function to convert class indices to class names\n",
    "def map_class_index_to_name(class_index):\n",
    "    idx_to_class = {v: k for k, v in train_dataset.class_to_idx.items()}\n",
    "    return idx_to_class.get(class_index, \"Unknown\")\n"
   ]
  },
  {
   "cell_type": "code",
   "execution_count": null,
   "metadata": {
    "colab": {
     "base_uri": "https://localhost:8080/"
    },
    "executionInfo": {
     "elapsed": 750,
     "status": "ok",
     "timestamp": 1731820245685,
     "user": {
      "displayName": "SATYA SAI RAMESH PANCHAKARLA",
      "userId": "05061219670073955967"
     },
     "user_tz": -330
    },
    "id": "e1PznriSh3Rt",
    "outputId": "8d8f4e0a-6caf-47a2-e343-e335daef4408"
   },
   "outputs": [
    {
     "name": "stdout",
     "output_type": "stream",
     "text": [
      "Column names added and file saved as /content/drive/MyDrive/CV_Project_2024-25iiits/dataset/register.csv\n"
     ]
    }
   ],
   "source": [
    "import pandas as pd\n",
    "\n",
    "# Load the CSV file\n",
    "input_file = \"/content/drive/MyDrive/CV_Project_2024-25iiits/dataset/register.csv\"  # Replace with your CSV file path\n",
    "output_file = \"/content/drive/MyDrive/CV_Project_2024-25iiits/dataset/register.csv\"  # Replace with desired output file path\n",
    "\n",
    "# Read the CSV file into a DataFrame\n",
    "df = pd.read_csv(input_file, header=None)  # Assuming no header in the original file\n",
    "\n",
    "# Assign column names to columns 0 and 1\n",
    "df.rename(columns={0: 'class', 1: 'name'}, inplace=True)\n",
    "\n",
    "# Save the updated DataFrame back to a CSV file\n",
    "df.to_csv(output_file, index=False)\n",
    "\n",
    "print(f\"Column names added and file saved as {output_file}\")\n"
   ]
  },
  {
   "cell_type": "code",
   "execution_count": null,
   "metadata": {
    "colab": {
     "base_uri": "https://localhost:8080/",
     "height": 1000
    },
    "executionInfo": {
     "elapsed": 1566400,
     "status": "ok",
     "timestamp": 1732005604402,
     "user": {
      "displayName": "SATYA SAI RAMESH PANCHAKARLA",
      "userId": "05061219670073955967"
     },
     "user_tz": -330
    },
    "id": "3ZFtxEq20VGT",
    "outputId": "c407f093-bd52-48f2-8766-8ca0eff80bf6"
   },
   "outputs": [
    {
     "name": "stderr",
     "output_type": "stream",
     "text": [
      "Epoch 1/35 - Training: 100%|██████████| 22/22 [00:47<00:00,  2.15s/it]\n"
     ]
    },
    {
     "name": "stdout",
     "output_type": "stream",
     "text": [
      "Epoch [1/35] | Train Loss: 2.4309, Train Acc: 27.09%\n"
     ]
    },
    {
     "name": "stderr",
     "output_type": "stream",
     "text": [
      "Epoch 2/35 - Training: 100%|██████████| 22/22 [00:45<00:00,  2.06s/it]\n"
     ]
    },
    {
     "name": "stdout",
     "output_type": "stream",
     "text": [
      "Epoch [2/35] | Train Loss: 1.1443, Train Acc: 64.01%\n"
     ]
    },
    {
     "name": "stderr",
     "output_type": "stream",
     "text": [
      "Epoch 3/35 - Training: 100%|██████████| 22/22 [00:44<00:00,  2.03s/it]\n"
     ]
    },
    {
     "name": "stdout",
     "output_type": "stream",
     "text": [
      "Epoch [3/35] | Train Loss: 0.5785, Train Acc: 82.46%\n"
     ]
    },
    {
     "name": "stderr",
     "output_type": "stream",
     "text": [
      "Epoch 4/35 - Training: 100%|██████████| 22/22 [00:44<00:00,  2.04s/it]\n"
     ]
    },
    {
     "name": "stdout",
     "output_type": "stream",
     "text": [
      "Epoch [4/35] | Train Loss: 0.3687, Train Acc: 90.05%\n"
     ]
    },
    {
     "name": "stderr",
     "output_type": "stream",
     "text": [
      "Epoch 5/35 - Training: 100%|██████████| 22/22 [00:44<00:00,  2.03s/it]\n"
     ]
    },
    {
     "name": "stdout",
     "output_type": "stream",
     "text": [
      "Epoch [5/35] | Train Loss: 0.2537, Train Acc: 93.06%\n"
     ]
    },
    {
     "name": "stderr",
     "output_type": "stream",
     "text": [
      "Epoch 6/35 - Training: 100%|██████████| 22/22 [00:44<00:00,  2.01s/it]\n"
     ]
    },
    {
     "name": "stdout",
     "output_type": "stream",
     "text": [
      "Epoch [6/35] | Train Loss: 0.1613, Train Acc: 95.81%\n"
     ]
    },
    {
     "name": "stderr",
     "output_type": "stream",
     "text": [
      "Epoch 7/35 - Training: 100%|██████████| 22/22 [00:44<00:00,  2.03s/it]\n"
     ]
    },
    {
     "name": "stdout",
     "output_type": "stream",
     "text": [
      "Epoch [7/35] | Train Loss: 0.1179, Train Acc: 96.60%\n"
     ]
    },
    {
     "name": "stderr",
     "output_type": "stream",
     "text": [
      "Epoch 8/35 - Training: 100%|██████████| 22/22 [00:43<00:00,  1.98s/it]\n"
     ]
    },
    {
     "name": "stdout",
     "output_type": "stream",
     "text": [
      "Epoch [8/35] | Train Loss: 0.1155, Train Acc: 96.86%\n"
     ]
    },
    {
     "name": "stderr",
     "output_type": "stream",
     "text": [
      "Epoch 9/35 - Training: 100%|██████████| 22/22 [00:44<00:00,  2.02s/it]\n"
     ]
    },
    {
     "name": "stdout",
     "output_type": "stream",
     "text": [
      "Epoch [9/35] | Train Loss: 0.0969, Train Acc: 96.99%\n"
     ]
    },
    {
     "name": "stderr",
     "output_type": "stream",
     "text": [
      "Epoch 10/35 - Training: 100%|██████████| 22/22 [00:44<00:00,  2.02s/it]\n"
     ]
    },
    {
     "name": "stdout",
     "output_type": "stream",
     "text": [
      "Epoch [10/35] | Train Loss: 0.0612, Train Acc: 97.77%\n"
     ]
    },
    {
     "name": "stderr",
     "output_type": "stream",
     "text": [
      "Epoch 11/35 - Training: 100%|██████████| 22/22 [00:43<00:00,  2.00s/it]\n"
     ]
    },
    {
     "name": "stdout",
     "output_type": "stream",
     "text": [
      "Epoch [11/35] | Train Loss: 0.0549, Train Acc: 98.17%\n"
     ]
    },
    {
     "name": "stderr",
     "output_type": "stream",
     "text": [
      "Epoch 12/35 - Training: 100%|██████████| 22/22 [00:44<00:00,  2.02s/it]\n"
     ]
    },
    {
     "name": "stdout",
     "output_type": "stream",
     "text": [
      "Epoch [12/35] | Train Loss: 0.0358, Train Acc: 99.08%\n"
     ]
    },
    {
     "name": "stderr",
     "output_type": "stream",
     "text": [
      "Epoch 13/35 - Training: 100%|██████████| 22/22 [00:44<00:00,  2.00s/it]\n"
     ]
    },
    {
     "name": "stdout",
     "output_type": "stream",
     "text": [
      "Epoch [13/35] | Train Loss: 0.0248, Train Acc: 99.35%\n"
     ]
    },
    {
     "name": "stderr",
     "output_type": "stream",
     "text": [
      "Epoch 14/35 - Training: 100%|██████████| 22/22 [00:44<00:00,  2.01s/it]\n"
     ]
    },
    {
     "name": "stdout",
     "output_type": "stream",
     "text": [
      "Epoch [14/35] | Train Loss: 0.0329, Train Acc: 98.95%\n"
     ]
    },
    {
     "name": "stderr",
     "output_type": "stream",
     "text": [
      "Epoch 15/35 - Training: 100%|██████████| 22/22 [00:43<00:00,  2.00s/it]\n"
     ]
    },
    {
     "name": "stdout",
     "output_type": "stream",
     "text": [
      "Epoch [15/35] | Train Loss: 0.0148, Train Acc: 99.87%\n"
     ]
    },
    {
     "name": "stderr",
     "output_type": "stream",
     "text": [
      "Epoch 16/35 - Training: 100%|██████████| 22/22 [00:43<00:00,  1.99s/it]\n"
     ]
    },
    {
     "name": "stdout",
     "output_type": "stream",
     "text": [
      "Epoch [16/35] | Train Loss: 0.0181, Train Acc: 99.21%\n"
     ]
    },
    {
     "name": "stderr",
     "output_type": "stream",
     "text": [
      "Epoch 17/35 - Training: 100%|██████████| 22/22 [00:44<00:00,  2.00s/it]\n"
     ]
    },
    {
     "name": "stdout",
     "output_type": "stream",
     "text": [
      "Epoch [17/35] | Train Loss: 0.0133, Train Acc: 99.61%\n"
     ]
    },
    {
     "name": "stderr",
     "output_type": "stream",
     "text": [
      "Epoch 18/35 - Training: 100%|██████████| 22/22 [00:43<00:00,  1.99s/it]\n"
     ]
    },
    {
     "name": "stdout",
     "output_type": "stream",
     "text": [
      "Epoch [18/35] | Train Loss: 0.0125, Train Acc: 99.74%\n"
     ]
    },
    {
     "name": "stderr",
     "output_type": "stream",
     "text": [
      "Epoch 19/35 - Training: 100%|██████████| 22/22 [00:44<00:00,  2.02s/it]\n"
     ]
    },
    {
     "name": "stdout",
     "output_type": "stream",
     "text": [
      "Epoch [19/35] | Train Loss: 0.0168, Train Acc: 99.48%\n"
     ]
    },
    {
     "name": "stderr",
     "output_type": "stream",
     "text": [
      "Epoch 20/35 - Training: 100%|██████████| 22/22 [00:43<00:00,  1.99s/it]\n"
     ]
    },
    {
     "name": "stdout",
     "output_type": "stream",
     "text": [
      "Epoch [20/35] | Train Loss: 0.0064, Train Acc: 99.87%\n"
     ]
    },
    {
     "name": "stderr",
     "output_type": "stream",
     "text": [
      "Epoch 21/35 - Training: 100%|██████████| 22/22 [00:44<00:00,  2.04s/it]\n"
     ]
    },
    {
     "name": "stdout",
     "output_type": "stream",
     "text": [
      "Epoch [21/35] | Train Loss: 0.0115, Train Acc: 99.61%\n"
     ]
    },
    {
     "name": "stderr",
     "output_type": "stream",
     "text": [
      "Epoch 22/35 - Training: 100%|██████████| 22/22 [00:44<00:00,  2.02s/it]\n"
     ]
    },
    {
     "name": "stdout",
     "output_type": "stream",
     "text": [
      "Epoch [22/35] | Train Loss: 0.0118, Train Acc: 99.61%\n"
     ]
    },
    {
     "name": "stderr",
     "output_type": "stream",
     "text": [
      "Epoch 23/35 - Training: 100%|██████████| 22/22 [00:44<00:00,  2.03s/it]\n"
     ]
    },
    {
     "name": "stdout",
     "output_type": "stream",
     "text": [
      "Epoch [23/35] | Train Loss: 0.0271, Train Acc: 99.48%\n"
     ]
    },
    {
     "name": "stderr",
     "output_type": "stream",
     "text": [
      "Epoch 24/35 - Training: 100%|██████████| 22/22 [00:44<00:00,  2.03s/it]\n"
     ]
    },
    {
     "name": "stdout",
     "output_type": "stream",
     "text": [
      "Epoch [24/35] | Train Loss: 0.0149, Train Acc: 99.48%\n"
     ]
    },
    {
     "name": "stderr",
     "output_type": "stream",
     "text": [
      "Epoch 25/35 - Training: 100%|██████████| 22/22 [00:43<00:00,  2.00s/it]\n"
     ]
    },
    {
     "name": "stdout",
     "output_type": "stream",
     "text": [
      "Epoch [25/35] | Train Loss: 0.0552, Train Acc: 98.82%\n"
     ]
    },
    {
     "name": "stderr",
     "output_type": "stream",
     "text": [
      "Epoch 26/35 - Training: 100%|██████████| 22/22 [00:44<00:00,  2.03s/it]\n"
     ]
    },
    {
     "name": "stdout",
     "output_type": "stream",
     "text": [
      "Epoch [26/35] | Train Loss: 0.0224, Train Acc: 99.35%\n"
     ]
    },
    {
     "name": "stderr",
     "output_type": "stream",
     "text": [
      "Epoch 27/35 - Training: 100%|██████████| 22/22 [00:44<00:00,  2.03s/it]\n"
     ]
    },
    {
     "name": "stdout",
     "output_type": "stream",
     "text": [
      "Epoch [27/35] | Train Loss: 0.0179, Train Acc: 99.21%\n"
     ]
    },
    {
     "name": "stderr",
     "output_type": "stream",
     "text": [
      "Epoch 28/35 - Training: 100%|██████████| 22/22 [00:44<00:00,  2.02s/it]\n"
     ]
    },
    {
     "name": "stdout",
     "output_type": "stream",
     "text": [
      "Epoch [28/35] | Train Loss: 0.0230, Train Acc: 99.35%\n"
     ]
    },
    {
     "name": "stderr",
     "output_type": "stream",
     "text": [
      "Epoch 29/35 - Training: 100%|██████████| 22/22 [00:44<00:00,  2.04s/it]\n"
     ]
    },
    {
     "name": "stdout",
     "output_type": "stream",
     "text": [
      "Epoch [29/35] | Train Loss: 0.0129, Train Acc: 99.87%\n"
     ]
    },
    {
     "name": "stderr",
     "output_type": "stream",
     "text": [
      "Epoch 30/35 - Training: 100%|██████████| 22/22 [00:44<00:00,  2.01s/it]\n"
     ]
    },
    {
     "name": "stdout",
     "output_type": "stream",
     "text": [
      "Epoch [30/35] | Train Loss: 0.0047, Train Acc: 99.87%\n"
     ]
    },
    {
     "name": "stderr",
     "output_type": "stream",
     "text": [
      "Epoch 31/35 - Training: 100%|██████████| 22/22 [00:44<00:00,  2.03s/it]\n"
     ]
    },
    {
     "name": "stdout",
     "output_type": "stream",
     "text": [
      "Epoch [31/35] | Train Loss: 0.0092, Train Acc: 99.87%\n"
     ]
    },
    {
     "name": "stderr",
     "output_type": "stream",
     "text": [
      "Epoch 32/35 - Training: 100%|██████████| 22/22 [00:44<00:00,  2.03s/it]\n"
     ]
    },
    {
     "name": "stdout",
     "output_type": "stream",
     "text": [
      "Epoch [32/35] | Train Loss: 0.0131, Train Acc: 99.61%\n"
     ]
    },
    {
     "name": "stderr",
     "output_type": "stream",
     "text": [
      "Epoch 33/35 - Training: 100%|██████████| 22/22 [00:44<00:00,  2.01s/it]\n"
     ]
    },
    {
     "name": "stdout",
     "output_type": "stream",
     "text": [
      "Epoch [33/35] | Train Loss: 0.0137, Train Acc: 99.48%\n"
     ]
    },
    {
     "name": "stderr",
     "output_type": "stream",
     "text": [
      "Epoch 34/35 - Training: 100%|██████████| 22/22 [00:44<00:00,  2.03s/it]\n"
     ]
    },
    {
     "name": "stdout",
     "output_type": "stream",
     "text": [
      "Epoch [34/35] | Train Loss: 0.0194, Train Acc: 99.21%\n"
     ]
    },
    {
     "name": "stderr",
     "output_type": "stream",
     "text": [
      "Epoch 35/35 - Training: 100%|██████████| 22/22 [00:44<00:00,  2.02s/it]\n"
     ]
    },
    {
     "name": "stdout",
     "output_type": "stream",
     "text": [
      "Epoch [35/35] | Train Loss: 0.0149, Train Acc: 99.61%\n"
     ]
    },
    {
     "data": {
      "image/png": "[encoded data removed]",
      "text/plain": [
       "<Figure size 1200x500 with 2 Axes>"
      ]
     },
     "metadata": {},
     "output_type": "display_data"
    },
    {
     "name": "stderr",
     "output_type": "stream",
     "text": [
      "<ipython-input-4-767aec4d921b>:298: FutureWarning: You are using `torch.load` with `weights_only=False` (the current default value), which uses the default pickle module implicitly. It is possible to construct malicious pickle data which will execute arbitrary code during unpickling (See https://github.com/pytorch/pytorch/blob/main/SECURITY.md#untrusted-models for more details). In a future release, the default value for `weights_only` will be flipped to `True`. This limits the functions that could be executed during unpickling. Arbitrary objects will no longer be allowed to be loaded via this mode unless they are explicitly allowlisted by the user via `torch.serialization.add_safe_globals`. We recommend you start setting `weights_only=True` for any use case where you don't have full control of the loaded file. Please open an issue on GitHub for any issues related to this experimental feature.\n",
      "  model.load_state_dict(torch.load(\"best_model.pth\"))\n",
      "Evaluating: 100%|██████████| 4/4 [00:04<00:00,  1.19s/it]"
     ]
    },
    {
     "name": "stdout",
     "output_type": "stream",
     "text": [
      "Accuracy: 82.46%\n",
      "Precision: 0.82, Recall: 0.82, F1-Score: 0.82\n",
      "Classification Report:\n",
      "               precision    recall  f1-score   support\n",
      "\n",
      "           0       1.00      1.00      1.00         5\n",
      "           1       1.00      0.80      0.89         5\n",
      "           2       1.00      1.00      1.00         5\n",
      "           3       0.75      0.60      0.67         5\n",
      "           4       0.71      1.00      0.83         5\n",
      "           5       0.80      0.80      0.80         5\n",
      "           6       0.83      1.00      0.91         5\n",
      "           7       1.00      0.80      0.89         5\n",
      "           8       1.00      1.00      1.00         5\n",
      "           9       1.00      1.00      1.00         5\n",
      "          10       0.83      1.00      0.91         5\n",
      "          11       1.00      1.00      1.00         5\n",
      "          12       1.00      1.00      1.00         5\n",
      "          13       0.83      1.00      0.91         5\n",
      "          14       1.00      0.80      0.89         5\n",
      "          15       1.00      1.00      1.00         5\n",
      "          16       0.80      0.80      0.80         5\n",
      "          17       1.00      1.00      1.00         5\n",
      "          18       0.83      1.00      0.91         5\n",
      "          19       1.00      0.80      0.89         5\n",
      "          20       0.00      0.00      0.00         7\n",
      "          21       0.22      0.29      0.25         7\n",
      "\n",
      "    accuracy                           0.82       114\n",
      "   macro avg       0.85      0.85      0.84       114\n",
      "weighted avg       0.82      0.82      0.82       114\n",
      "\n",
      "Confusion Matrix:\n",
      " [[5 0 0 0 0 0 0 0 0 0 0 0 0 0 0 0 0 0 0 0 0 0]\n",
      " [0 4 0 0 0 0 0 0 0 0 0 0 0 0 0 0 1 0 0 0 0 0]\n",
      " [0 0 5 0 0 0 0 0 0 0 0 0 0 0 0 0 0 0 0 0 0 0]\n",
      " [0 0 0 3 1 1 0 0 0 0 0 0 0 0 0 0 0 0 0 0 0 0]\n",
      " [0 0 0 0 5 0 0 0 0 0 0 0 0 0 0 0 0 0 0 0 0 0]\n",
      " [0 0 0 0 1 4 0 0 0 0 0 0 0 0 0 0 0 0 0 0 0 0]\n",
      " [0 0 0 0 0 0 5 0 0 0 0 0 0 0 0 0 0 0 0 0 0 0]\n",
      " [0 0 0 1 0 0 0 4 0 0 0 0 0 0 0 0 0 0 0 0 0 0]\n",
      " [0 0 0 0 0 0 0 0 5 0 0 0 0 0 0 0 0 0 0 0 0 0]\n",
      " [0 0 0 0 0 0 0 0 0 5 0 0 0 0 0 0 0 0 0 0 0 0]\n",
      " [0 0 0 0 0 0 0 0 0 0 5 0 0 0 0 0 0 0 0 0 0 0]\n",
      " [0 0 0 0 0 0 0 0 0 0 0 5 0 0 0 0 0 0 0 0 0 0]\n",
      " [0 0 0 0 0 0 0 0 0 0 0 0 5 0 0 0 0 0 0 0 0 0]\n",
      " [0 0 0 0 0 0 0 0 0 0 0 0 0 5 0 0 0 0 0 0 0 0]\n",
      " [0 0 0 0 0 0 0 0 0 0 1 0 0 0 4 0 0 0 0 0 0 0]\n",
      " [0 0 0 0 0 0 0 0 0 0 0 0 0 0 0 5 0 0 0 0 0 0]\n",
      " [0 0 0 0 0 0 0 0 0 0 0 0 0 1 0 0 4 0 0 0 0 0]\n",
      " [0 0 0 0 0 0 0 0 0 0 0 0 0 0 0 0 0 5 0 0 0 0]\n",
      " [0 0 0 0 0 0 0 0 0 0 0 0 0 0 0 0 0 0 5 0 0 0]\n",
      " [0 0 0 0 0 0 0 0 0 0 0 0 0 0 0 0 0 0 1 4 0 0]\n",
      " [0 0 0 0 0 0 0 0 0 0 0 0 0 0 0 0 0 0 0 0 0 7]\n",
      " [0 0 0 0 0 0 1 0 0 0 0 0 0 0 0 0 0 0 0 0 4 2]]\n"
     ]
    },
    {
     "name": "stderr",
     "output_type": "stream",
     "text": [
      "\n"
     ]
    }
   ],
   "source": [
    "import torch\n",
    "import torch.nn as nn\n",
    "import torch.optim as optim\n",
    "import numpy as np\n",
    "from torch.utils.data import DataLoader, Dataset\n",
    "import os\n",
    "from PIL import Image\n",
    "import random\n",
    "from torchvision import transforms\n",
    "from tqdm import tqdm\n",
    "from sklearn.metrics import classification_report, confusion_matrix\n",
    "\n",
    "# Parameters\n",
    "NUM_CLASSES = 22\n",
    "EPOCHS = 35\n",
    "BATCH_SIZE = 35\n",
    "IMAGE_HEIGHT = 160\n",
    "IMAGE_WIDTH = 160\n",
    "TRAINING_DATA_DIRECTORY = \"/content/drive/MyDrive/CV_Project_2024-25iiits/dataset/train_images\"\n",
    "TESTING_DATA_DIRECTORY = \"/content/drive/MyDrive/CV_Project_2024-25iiits/dataset/test_images\"\n",
    "\n",
    "# Add random noise to images\n",
    "def add_noise(img):\n",
    "    VARIABILITY = 35\n",
    "    deviation = VARIABILITY * random.random()\n",
    "    noise = np.random.normal(0, deviation, img.shape)\n",
    "    img += noise\n",
    "    np.clip(img, 0., 255.)\n",
    "    return img\n",
    "\n",
    "class IIITS_boys_hostel_FacesDataset(Dataset):\n",
    "    def __init__(self, dataset_path, transform=None):\n",
    "        self.dataset_path = dataset_path\n",
    "        self.transform = transform\n",
    "        self.image_paths = []\n",
    "        self.labels = []\n",
    "\n",
    "        # Loop through folders in the dataset path\n",
    "        for class_folder in os.listdir(dataset_path):\n",
    "            class_folder_path = os.path.join(dataset_path, class_folder)\n",
    "            if os.path.isdir(class_folder_path):\n",
    "                # Convert folder name to label (folder name is assumed to be '1', '2', ..., '20')\n",
    "                try:\n",
    "                    class_index = int(class_folder) - 1  # Convert folder name to zero-based label\n",
    "                except ValueError:\n",
    "                    raise ValueError(f\"Folder name '{class_folder}' is not a valid integer.\")\n",
    "\n",
    "                # Add images and labels\n",
    "                for img_file in os.listdir(class_folder_path):\n",
    "                    if img_file.endswith(('.png', '.jpg', '.jpeg')):  # Ensure the file is an image\n",
    "                        self.image_paths.append(os.path.join(class_folder_path, img_file))\n",
    "                        self.labels.append(class_index)\n",
    "\n",
    "    def __len__(self):\n",
    "        return len(self.image_paths)\n",
    "\n",
    "    def __getitem__(self, idx):\n",
    "        image_path = self.image_paths[idx]\n",
    "        image = Image.open(image_path).convert('RGB')  # Ensure RGB image\n",
    "        label = self.labels[idx]  # Label does not need adjustment\n",
    "\n",
    "        if self.transform:\n",
    "            image = self.transform(image)\n",
    "\n",
    "        return image, label\n",
    "\n",
    "# Transformations\n",
    "transform = transforms.Compose([\n",
    "    transforms.Resize((160, 160)),  # Resize to match input size\n",
    "    transforms.ToTensor(),\n",
    "    transforms.Normalize(mean=[0.5, 0.5, 0.5], std=[0.5, 0.5, 0.5])  # Normalize to [-1, 1]\n",
    "])\n",
    "\n",
    "# Load datasets\n",
    "train_dataset = IIITS_boys_hostel_FacesDataset(TRAINING_DATA_DIRECTORY, transform=transform)\n",
    "test_dataset = IIITS_boys_hostel_FacesDataset(TESTING_DATA_DIRECTORY, transform=transform)\n",
    "\n",
    "train_loader = DataLoader(train_dataset, batch_size=BATCH_SIZE, shuffle=True)\n",
    "test_loader = DataLoader(test_dataset, batch_size=BATCH_SIZE, shuffle=False)\n",
    "'''\n",
    "# Define the VGGFace160 model\n",
    "class VGGFace160(nn.Module):\n",
    "    def __init__(self, num_classes=20):\n",
    "        super(VGGFace160, self).__init__()\n",
    "        self.features = nn.Sequential(\n",
    "            # Block 1\n",
    "            nn.Conv2d(3, 64, kernel_size=3, padding=1),\n",
    "            nn.ReLU(inplace=True),\n",
    "            nn.Conv2d(64, 64, kernel_size=3, padding=1),\n",
    "            nn.ReLU(inplace=True),\n",
    "            nn.MaxPool2d(kernel_size=2, stride=2),  # 80x80\n",
    "\n",
    "            # Block 2\n",
    "            nn.Conv2d(64, 128, kernel_size=3, padding=1),\n",
    "            nn.ReLU(inplace=True),\n",
    "            nn.Conv2d(128, 128, kernel_size=3, padding=1),\n",
    "            nn.ReLU(inplace=True),\n",
    "            nn.MaxPool2d(kernel_size=2, stride=2),  # 40x40\n",
    "\n",
    "            # Block 3\n",
    "            nn.Conv2d(128, 256, kernel_size=3, padding=1),\n",
    "            nn.ReLU(inplace=True),\n",
    "            nn.Conv2d(256, 256, kernel_size=3, padding=1),\n",
    "            nn.ReLU(inplace=True),\n",
    "            nn.Conv2d(256, 256, kernel_size=3, padding=1),\n",
    "            nn.ReLU(inplace=True),\n",
    "            nn.MaxPool2d(kernel_size=2, stride=2),  # 20x20\n",
    "\n",
    "            # Block 4\n",
    "            nn.Conv2d(256, 512, kernel_size=3, padding=1),\n",
    "            nn.ReLU(inplace=True),\n",
    "            nn.Conv2d(512, 512, kernel_size=3, padding=1),\n",
    "            nn.ReLU(inplace=True),\n",
    "            nn.Conv2d(512, 512, kernel_size=3, padding=1),\n",
    "            nn.ReLU(inplace=True),\n",
    "            nn.MaxPool2d(kernel_size=2, stride=2),  # 10x10\n",
    "\n",
    "            # Block 5\n",
    "            nn.Conv2d(512, 512, kernel_size=3, padding=1),\n",
    "            nn.ReLU(inplace=True),\n",
    "            nn.Conv2d(512, 512, kernel_size=3, padding=1),\n",
    "            nn.ReLU(inplace=True),\n",
    "            nn.Conv2d(512, 512, kernel_size=3, padding=1),\n",
    "            nn.ReLU(inplace=True),\n",
    "            nn.MaxPool2d(kernel_size=2, stride=2)  # 5x5\n",
    "        )\n",
    "\n",
    "        # Adjusted classifier for 160x160 input size\n",
    "        self.classifier = nn.Sequential(\n",
    "            nn.Linear(512 * 5 * 5, 4096),  # Adjusted for output size of 5x5\n",
    "            nn.ReLU(True),\n",
    "            #nn.Dropout(),\n",
    "\n",
    "            nn.Linear(4096, 2048),\n",
    "            nn.ReLU(True),\n",
    "            #nn.Dropout(),\n",
    "\n",
    "            nn.Linear(2048, 1024),\n",
    "            nn.ReLU(True),\n",
    "            #nn.Dropout(),\n",
    "\n",
    "            nn.Linear(1024, 512),\n",
    "            nn.ReLU(True),\n",
    "            nn.Dropout(0.5),\n",
    "\n",
    "            nn.Linear(512, num_classes),\n",
    "            #nn.Softmax(dim=1)  # Softmax for classification output\n",
    "        )\n",
    "\n",
    "    def forward(self, x):\n",
    "        x = self.features(x)\n",
    "        x = x.view(x.size(0), -1)  # Flatten before passing to classifier\n",
    "        x = self.classifier(x)\n",
    "        return x\n",
    "\n",
    "# Instantiate the model for 20 classes\n",
    "model = VGGFace160(num_classes=NUM_CLASSES)'''\n",
    "class CNNModel(nn.Module):\n",
    "    def __init__(self):\n",
    "        super(CNNModel, self).__init__()\n",
    "        self.conv1 = nn.Conv2d(3, 32, kernel_size=3, padding=1)\n",
    "        self.conv2 = nn.Conv2d(32, 64, kernel_size=3, padding=1)\n",
    "        self.conv3 = nn.Conv2d(64, 128, kernel_size=3, padding=1)\n",
    "        self.pool = nn.MaxPool2d(2, 2)\n",
    "        self.fc1 = nn.Linear(128 * (IMAGE_HEIGHT // 8) * (IMAGE_WIDTH // 8), 512)\n",
    "        self.fc2 = nn.Linear(512, NUM_CLASSES)\n",
    "        self.dropout = nn.Dropout(0.5)\n",
    "\n",
    "    def forward(self, x):\n",
    "        x = self.pool(torch.relu(self.conv1(x)))\n",
    "        x = self.pool(torch.relu(self.conv2(x)))\n",
    "        x = self.pool(torch.relu(self.conv3(x)))\n",
    "        x = x.view(-1, 128 * (IMAGE_HEIGHT // 8) * (IMAGE_WIDTH // 8))\n",
    "        x = torch.relu(self.fc1(x))\n",
    "        x = self.dropout(x)\n",
    "        x = self.fc2(x)\n",
    "        return x\n",
    "\n",
    "# Instantiate the model, define the loss function and optimizer\n",
    "device = torch.device(\"cuda\" if torch.cuda.is_available() else \"cpu\")\n",
    "model = CNNModel().to(device)\n",
    "criterion = nn.CrossEntropyLoss()\n",
    "optimizer = optim.Adam(model.parameters(), lr=0.0003)\n",
    "import torch\n",
    "import torch.nn as nn\n",
    "import torch.optim as optim\n",
    "from tqdm import tqdm\n",
    "import matplotlib.pyplot as plt\n",
    "from sklearn.metrics import classification_report, confusion_matrix, precision_score, recall_score, f1_score\n",
    "\n",
    "# Updated training function with saving the best model and tracking metrics\n",
    "import torch\n",
    "import torch.nn as nn\n",
    "import torch.optim as optim\n",
    "from tqdm import tqdm\n",
    "import matplotlib.pyplot as plt\n",
    "from sklearn.metrics import classification_report, confusion_matrix, precision_score, recall_score, f1_score\n",
    "\n",
    "# Updated training function without validation\n",
    "def train_model(model, train_loader, criterion, optimizer, epochs):\n",
    "    model.train()\n",
    "    best_train_acc = 0.0\n",
    "    train_losses, train_accuracies = [], []\n",
    "\n",
    "    for epoch in range(epochs):\n",
    "        running_loss, correct, total = 0.0, 0, 0\n",
    "        for images, labels in tqdm(train_loader, desc=f\"Epoch {epoch+1}/{epochs} - Training\"):\n",
    "            images, labels = images.to(device), labels.to(device)\n",
    "\n",
    "            optimizer.zero_grad()\n",
    "            outputs = model(images)\n",
    "            loss = criterion(outputs, labels)\n",
    "            loss.backward()\n",
    "            optimizer.step()\n",
    "\n",
    "            running_loss += loss.item()\n",
    "            _, predicted = torch.max(outputs.data, 1)\n",
    "            total += labels.size(0)\n",
    "            correct += (predicted == labels).sum().item()\n",
    "\n",
    "        train_loss = running_loss / len(train_loader)\n",
    "        train_acc = 100 * correct / total\n",
    "        train_losses.append(train_loss)\n",
    "        train_accuracies.append(train_acc)\n",
    "\n",
    "        # Save the best model based on training accuracy\n",
    "        if train_acc > best_train_acc:\n",
    "            best_train_acc = train_acc\n",
    "            torch.save(model.state_dict(), \"best_model.pth\")\n",
    "\n",
    "        print(f\"Epoch [{epoch+1}/{epochs}] | Train Loss: {train_loss:.4f}, Train Acc: {train_acc:.2f}%\")\n",
    "\n",
    "    # Plot training metrics\n",
    "    plot_metrics(train_losses, train_accuracies)\n",
    "\n",
    "# Evaluation function (remains the same)\n",
    "def evaluate_model(model, data_loader, criterion):\n",
    "    model.eval()\n",
    "    running_loss, correct, total = 0.0, 0, 0\n",
    "    all_preds, all_labels = [], []\n",
    "\n",
    "    with torch.no_grad():\n",
    "        for images, labels in tqdm(data_loader, desc=\"Evaluating\"):\n",
    "            images, labels = images.to(device), labels.to(device)\n",
    "            outputs = model(images)\n",
    "            loss = criterion(outputs, labels)\n",
    "            running_loss += loss.item()\n",
    "\n",
    "            _, predicted = torch.max(outputs.data, 1)\n",
    "            total += labels.size(0)\n",
    "            correct += (predicted == labels).sum().item()\n",
    "\n",
    "            all_preds.extend(predicted.cpu().numpy())\n",
    "            all_labels.extend(labels.cpu().numpy())\n",
    "\n",
    "    avg_loss = running_loss / len(data_loader)\n",
    "    accuracy = 100 * correct / total\n",
    "\n",
    "    precision = precision_score(all_labels, all_preds, average=\"weighted\")\n",
    "    recall = recall_score(all_labels, all_preds, average=\"weighted\")\n",
    "    f1 = f1_score(all_labels, all_preds, average=\"weighted\")\n",
    "\n",
    "    print(f\"Accuracy: {accuracy:.2f}%\")\n",
    "    print(f\"Precision: {precision:.2f}, Recall: {recall:.2f}, F1-Score: {f1:.2f}\")\n",
    "    print(\"Classification Report:\\n\", classification_report(all_labels, all_preds))\n",
    "    print(\"Confusion Matrix:\\n\", confusion_matrix(all_labels, all_preds))\n",
    "\n",
    "    return avg_loss, accuracy\n",
    "\n",
    "# Plotting function\n",
    "def plot_metrics(losses, accuracies):\n",
    "    epochs = range(1, len(losses) + 1)\n",
    "\n",
    "    plt.figure(figsize=(12, 5))\n",
    "    # Plot Loss\n",
    "    plt.subplot(1, 2, 1)\n",
    "    plt.plot(epochs, losses, label=\"Train Loss\")\n",
    "    plt.xlabel(\"Epochs\")\n",
    "    plt.ylabel(\"Loss\")\n",
    "    plt.title(\"Loss vs Epochs\")\n",
    "    plt.legend()\n",
    "\n",
    "    # Plot Accuracy\n",
    "    plt.subplot(1, 2, 2)\n",
    "    plt.plot(epochs, accuracies, label=\"Train Accuracy\")\n",
    "    plt.xlabel(\"Epochs\")\n",
    "    plt.ylabel(\"Accuracy (%)\")\n",
    "    plt.title(\"Accuracy vs Epochs\")\n",
    "    plt.legend()\n",
    "\n",
    "    plt.tight_layout()\n",
    "    plt.show()\n",
    "\n",
    "# Train the model\n",
    "train_model(model, train_loader, criterion, optimizer, EPOCHS)\n",
    "\n",
    "# Load the best model for final evaluation\n",
    "model.load_state_dict(torch.load(\"best_model.pth\"))\n",
    "evaluate_model(model, test_loader, criterion)\n",
    "\n",
    "\n",
    "\n",
    "# Mapping function to convert class indices to class names\n",
    "def map_class_index_to_name(class_index):\n",
    "    idx_to_class = {v: k for k, v in train_dataset.class_to_idx.items()}\n",
    "    return idx_to_class.get(class_index, \"Unknown\")"
   ]
  },
  {
   "cell_type": "code",
   "execution_count": null,
   "metadata": {
    "colab": {
     "base_uri": "https://localhost:8080/",
     "height": 1000,
     "output_embedded_package_id": "1FUV6lp1rxJjrQ1eawZ6RHJolUWumHNes"
    },
    "executionInfo": {
     "elapsed": 35507,
     "status": "ok",
     "timestamp": 1732007608966,
     "user": {
      "displayName": "SATYA SAI RAMESH PANCHAKARLA",
      "userId": "05061219670073955967"
     },
     "user_tz": -330
    },
    "id": "7HtM3cY60fYq",
    "outputId": "db60f69a-3110-4b70-c765-82f01b91c17d"
   },
   "outputs": [
    {
     "data": {
      "text/plain": [
       "Output hidden; open in https://colab.research.google.com to view."
      ]
     },
     "metadata": {},
     "output_type": "display_data"
    }
   ],
   "source": [
    "import matplotlib.pyplot as plt\n",
    "\n",
    "# Function to plot test images with true and predicted labels\n",
    "def plot_predictions(model, test_loader, num_classes=20, images_per_class=5):\n",
    "    model.load_state_dict(torch.load(\"best_model.pth\", map_location=device))\n",
    "    model.to(device)\n",
    "    model.eval()\n",
    "    class_images = {i: [] for i in range(num_classes)}  # Dictionary to store images for each class\n",
    "    class_true_labels = {i: [] for i in range(num_classes)}\n",
    "    class_pred_labels = {i: [] for i in range(num_classes)}\n",
    "\n",
    "    with torch.no_grad():\n",
    "        for images, labels in test_loader:\n",
    "            images, labels = images.to(device), labels.to(device)\n",
    "            outputs = model(images)\n",
    "            _, predicted = torch.max(outputs.data, 1)\n",
    "\n",
    "            for img, true_label, pred_label in zip(images, labels, predicted):\n",
    "                if len(class_images[true_label.item()]) < images_per_class:\n",
    "                    class_images[true_label.item()].append(img.cpu())\n",
    "                    class_true_labels[true_label.item()].append(true_label.item())\n",
    "                    class_pred_labels[true_label.item()].append(pred_label.item())\n",
    "\n",
    "                # Stop when we have enough images per class\n",
    "                if all(len(v) >= images_per_class for v in class_images.values()):\n",
    "                    break\n",
    "\n",
    "    # Plot the images with true and predicted labels\n",
    "    fig, axes = plt.subplots(num_classes, images_per_class, figsize=(20, num_classes * 5))\n",
    "    for class_id in range(num_classes):\n",
    "        for img_idx in range(images_per_class):\n",
    "            ax = axes[class_id, img_idx]\n",
    "            img = class_images[class_id][img_idx]\n",
    "            true_label = class_true_labels[class_id][img_idx]\n",
    "            pred_label = class_pred_labels[class_id][img_idx]\n",
    "\n",
    "            # Convert tensor image to numpy for visualization\n",
    "            img = img.permute(1, 2, 0).numpy()  # Change shape from (C, H, W) to (H, W, C)\n",
    "            img = (img * 0.5 + 0.5) * 255  # De-normalize and scale to [0, 255]\n",
    "            img = img.astype(np.uint8)\n",
    "\n",
    "            ax.imshow(img)\n",
    "            ax.axis('off')\n",
    "            ax.set_title(f\"True: {true_label}\\nPred: {pred_label}\", color=\"green\" if true_label == pred_label else \"red\")\n",
    "\n",
    "    plt.tight_layout()\n",
    "    plt.show()\n",
    "\n",
    "# Plot predictions\n",
    "plot_predictions(model, test_loader, num_classes=NUM_CLASSES, images_per_class=5)\n"
   ]
  },
  {
   "cell_type": "code",
   "execution_count": null,
   "metadata": {
    "colab": {
     "base_uri": "https://localhost:8080/",
     "height": 1000
    },
    "executionInfo": {
     "elapsed": 3784,
     "status": "ok",
     "timestamp": 1731989327204,
     "user": {
      "displayName": "SATYA SAI RAMESH PANCHAKARLA",
      "userId": "05061219670073955967"
     },
     "user_tz": -330
    },
    "id": "nEhu82Cq0w_u",
    "outputId": "179a0a3a-3889-4550-a082-53e3a1b65995"
   },
   "outputs": [
    {
     "name": "stderr",
     "output_type": "stream",
     "text": [
      "100%|██████████| 4/4 [00:00<00:00,  6.41it/s]\n"
     ]
    },
    {
     "name": "stdout",
     "output_type": "stream",
     "text": [
      "Accuracy: 82.73%\n",
      "Classification Report:\n",
      "               precision    recall  f1-score   support\n",
      "\n",
      "           0       1.00      1.00      1.00         5\n",
      "           1       1.00      0.80      0.89         5\n",
      "           2       1.00      1.00      1.00         5\n",
      "           3       0.75      0.60      0.67         5\n",
      "           4       0.83      1.00      0.91         5\n",
      "           5       1.00      0.60      0.75         5\n",
      "           6       0.83      1.00      0.91         5\n",
      "           7       0.80      0.80      0.80         5\n",
      "           8       1.00      1.00      1.00         5\n",
      "           9       1.00      1.00      1.00         5\n",
      "          10       0.83      1.00      0.91         5\n",
      "          11       1.00      1.00      1.00         5\n",
      "          12       0.83      1.00      0.91         5\n",
      "          13       0.83      1.00      0.91         5\n",
      "          14       1.00      0.80      0.89         5\n",
      "          15       1.00      1.00      1.00         5\n",
      "          16       0.80      0.80      0.80         5\n",
      "          17       1.00      1.00      1.00         5\n",
      "          18       1.00      1.00      1.00         5\n",
      "          19       1.00      0.80      0.89         5\n",
      "          20       0.00      0.00      0.00         5\n",
      "          21       0.00      0.00      0.00         5\n",
      "\n",
      "    accuracy                           0.83       110\n",
      "   macro avg       0.84      0.83      0.83       110\n",
      "weighted avg       0.84      0.83      0.83       110\n",
      "\n"
     ]
    },
    {
     "data": {
      "image/png": "[encoded data removed]",
      "text/plain": [
       "<Figure size 1000x800 with 2 Axes>"
      ]
     },
     "metadata": {},
     "output_type": "display_data"
    }
   ],
   "source": [
    "import matplotlib.pyplot as plt\n",
    "import seaborn as sns\n",
    "from sklearn.metrics import ConfusionMatrixDisplay\n",
    "\n",
    "def plot_confusion_matrix(cm, class_names):\n",
    "    plt.figure(figsize=(10, 8))\n",
    "    sns.heatmap(cm, annot=True, fmt=\"d\", cmap=\"Blues\", xticklabels=class_names, yticklabels=class_names)\n",
    "    plt.xlabel(\"Predicted Labels\")\n",
    "    plt.ylabel(\"True Labels\")\n",
    "    plt.title(\"Confusion Matrix\")\n",
    "    plt.tight_layout()\n",
    "    plt.show()\n",
    "def evaluate_model(model, test_loader, criterion):\n",
    "    model.eval()\n",
    "    correct = 0\n",
    "    total = 0\n",
    "    all_preds = []\n",
    "    all_labels = []\n",
    "    with torch.no_grad():\n",
    "        for images, labels in tqdm(test_loader):\n",
    "            images, labels = images.to(device), labels.to(device)\n",
    "            outputs = model(images)\n",
    "            _, predicted = torch.max(outputs.data, 1)\n",
    "            total += labels.size(0)\n",
    "            correct += (predicted == labels).sum().item()\n",
    "\n",
    "            all_preds.extend(predicted.cpu().numpy())\n",
    "            all_labels.extend(labels.cpu().numpy())\n",
    "\n",
    "    accuracy = 100 * correct / total\n",
    "    print(f'Accuracy: {accuracy:.2f}%')\n",
    "    print(\"Classification Report:\\n\", classification_report(all_labels, all_preds))\n",
    "\n",
    "    # Compute confusion matrix\n",
    "    cm = confusion_matrix(all_labels, all_preds)\n",
    "\n",
    "    # Plot confusion matrix\n",
    "    class_names = [str(i+1) for i in range(NUM_CLASSES)]  # Adjust class names as needed\n",
    "    plot_confusion_matrix(cm, class_names)\n",
    "evaluate_model(model, test_loader, criterion)"
   ]
  },
  {
   "cell_type": "code",
   "execution_count": null,
   "metadata": {
    "id": "6EeAc8W9rsfY"
   },
   "outputs": [],
   "source": []
  },
  {
   "cell_type": "code",
   "execution_count": 1,
   "metadata": {
    "colab": {
     "base_uri": "https://localhost:8080/",
     "height": 332
    },
    "executionInfo": {
     "elapsed": 13449,
     "status": "error",
     "timestamp": 1732027004321,
     "user": {
      "displayName": "NITHIN SAI KELAVATHU",
      "userId": "10221293535913371192"
     },
     "user_tz": -330
    },
    "id": "qCMzyWNers06",
    "outputId": "7a6a8673-cca5-46a1-d86c-710cf2cd3ca7"
   },
   "outputs": [
    {
     "ename": "FileNotFoundError",
     "evalue": "[Errno 2] No such file or directory: '/content/drive/MyDrive/CV_Project_2024-25iiits/augmented_dataset/train'",
     "output_type": "error",
     "traceback": [
      "\u001b[0;31m---------------------------------------------------------------------------\u001b[0m",
      "\u001b[0;31mFileNotFoundError\u001b[0m                         Traceback (most recent call last)",
      "\u001b[0;32m<ipython-input-1-6035843993e1>\u001b[0m in \u001b[0;36m<cell line: 75>\u001b[0;34m()\u001b[0m\n\u001b[1;32m     73\u001b[0m \u001b[0;34m\u001b[0m\u001b[0m\n\u001b[1;32m     74\u001b[0m \u001b[0;31m# Load datasets\u001b[0m\u001b[0;34m\u001b[0m\u001b[0;34m\u001b[0m\u001b[0m\n\u001b[0;32m---> 75\u001b[0;31m \u001b[0mtrain_dataset\u001b[0m \u001b[0;34m=\u001b[0m \u001b[0mIIITS_boys_hostel_FacesDataset\u001b[0m\u001b[0;34m(\u001b[0m\u001b[0mTRAINING_DATA_DIRECTORY\u001b[0m\u001b[0;34m,\u001b[0m \u001b[0mtransform\u001b[0m\u001b[0;34m=\u001b[0m\u001b[0mtransform\u001b[0m\u001b[0;34m)\u001b[0m\u001b[0;34m\u001b[0m\u001b[0;34m\u001b[0m\u001b[0m\n\u001b[0m\u001b[1;32m     76\u001b[0m \u001b[0mtest_dataset\u001b[0m \u001b[0;34m=\u001b[0m \u001b[0mIIITS_boys_hostel_FacesDataset\u001b[0m\u001b[0;34m(\u001b[0m\u001b[0mTESTING_DATA_DIRECTORY\u001b[0m\u001b[0;34m,\u001b[0m \u001b[0mtransform\u001b[0m\u001b[0;34m=\u001b[0m\u001b[0mtransform\u001b[0m\u001b[0;34m)\u001b[0m\u001b[0;34m\u001b[0m\u001b[0;34m\u001b[0m\u001b[0m\n\u001b[1;32m     77\u001b[0m \u001b[0;34m\u001b[0m\u001b[0m\n",
      "\u001b[0;32m<ipython-input-1-6035843993e1>\u001b[0m in \u001b[0;36m__init__\u001b[0;34m(self, dataset_path, transform)\u001b[0m\n\u001b[1;32m     37\u001b[0m \u001b[0;34m\u001b[0m\u001b[0m\n\u001b[1;32m     38\u001b[0m         \u001b[0;31m# Loop through folders in the dataset path\u001b[0m\u001b[0;34m\u001b[0m\u001b[0;34m\u001b[0m\u001b[0m\n\u001b[0;32m---> 39\u001b[0;31m         \u001b[0;32mfor\u001b[0m \u001b[0mclass_folder\u001b[0m \u001b[0;32min\u001b[0m \u001b[0mos\u001b[0m\u001b[0;34m.\u001b[0m\u001b[0mlistdir\u001b[0m\u001b[0;34m(\u001b[0m\u001b[0mdataset_path\u001b[0m\u001b[0;34m)\u001b[0m\u001b[0;34m:\u001b[0m\u001b[0;34m\u001b[0m\u001b[0;34m\u001b[0m\u001b[0m\n\u001b[0m\u001b[1;32m     40\u001b[0m             \u001b[0mclass_folder_path\u001b[0m \u001b[0;34m=\u001b[0m \u001b[0mos\u001b[0m\u001b[0;34m.\u001b[0m\u001b[0mpath\u001b[0m\u001b[0;34m.\u001b[0m\u001b[0mjoin\u001b[0m\u001b[0;34m(\u001b[0m\u001b[0mdataset_path\u001b[0m\u001b[0;34m,\u001b[0m \u001b[0mclass_folder\u001b[0m\u001b[0;34m)\u001b[0m\u001b[0;34m\u001b[0m\u001b[0;34m\u001b[0m\u001b[0m\n\u001b[1;32m     41\u001b[0m             \u001b[0;32mif\u001b[0m \u001b[0mos\u001b[0m\u001b[0;34m.\u001b[0m\u001b[0mpath\u001b[0m\u001b[0;34m.\u001b[0m\u001b[0misdir\u001b[0m\u001b[0;34m(\u001b[0m\u001b[0mclass_folder_path\u001b[0m\u001b[0;34m)\u001b[0m\u001b[0;34m:\u001b[0m\u001b[0;34m\u001b[0m\u001b[0;34m\u001b[0m\u001b[0m\n",
      "\u001b[0;31mFileNotFoundError\u001b[0m: [Errno 2] No such file or directory: '/content/drive/MyDrive/CV_Project_2024-25iiits/augmented_dataset/train'"
     ]
    }
   ],
   "source": [
    "import torch\n",
    "import torch.nn as nn\n",
    "import torch.optim as optim\n",
    "import numpy as np\n",
    "from torch.utils.data import DataLoader, Dataset\n",
    "import os\n",
    "from PIL import Image\n",
    "import random\n",
    "from torchvision import transforms\n",
    "from tqdm import tqdm\n",
    "from sklearn.metrics import classification_report, confusion_matrix\n",
    "\n",
    "# Parameters\n",
    "NUM_CLASSES = 22\n",
    "EPOCHS = 35\n",
    "BATCH_SIZE = 35\n",
    "IMAGE_HEIGHT = 160\n",
    "IMAGE_WIDTH = 160\n",
    "TRAINING_DATA_DIRECTORY = \"/content/drive/MyDrive/CV_Project_2024-25iiits/augmented_dataset/train\"\n",
    "TESTING_DATA_DIRECTORY = \"/content/drive/MyDrive/CV_Project_2024-25iiits/augmented_dataset/test\"\n",
    "\n",
    "# Add random noise to images\n",
    "def add_noise(img):\n",
    "    VARIABILITY = 35\n",
    "    deviation = VARIABILITY * random.random()\n",
    "    noise = np.random.normal(0, deviation, img.shape)\n",
    "    img += noise\n",
    "    np.clip(img, 0., 255.)\n",
    "    return img\n",
    "\n",
    "class IIITS_boys_hostel_FacesDataset(Dataset):\n",
    "    def __init__(self, dataset_path, transform=None):\n",
    "        self.dataset_path = dataset_path\n",
    "        self.transform = transform\n",
    "        self.image_paths = []\n",
    "        self.labels = []\n",
    "\n",
    "        # Loop through folders in the dataset path\n",
    "        for class_folder in os.listdir(dataset_path):\n",
    "            class_folder_path = os.path.join(dataset_path, class_folder)\n",
    "            if os.path.isdir(class_folder_path):\n",
    "                # Convert folder name to label (folder name is assumed to be '1', '2', ..., '20')\n",
    "                try:\n",
    "                    class_index = int(class_folder) - 1  # Convert folder name to zero-based label\n",
    "                except ValueError:\n",
    "                    raise ValueError(f\"Folder name '{class_folder}' is not a valid integer.\")\n",
    "\n",
    "                # Add images and labels\n",
    "                for img_file in os.listdir(class_folder_path):\n",
    "                    if img_file.endswith(('.png', '.jpg', '.jpeg')):  # Ensure the file is an image\n",
    "                        self.image_paths.append(os.path.join(class_folder_path, img_file))\n",
    "                        self.labels.append(class_index)\n",
    "\n",
    "    def __len__(self):\n",
    "        return len(self.image_paths)\n",
    "\n",
    "    def __getitem__(self, idx):\n",
    "        image_path = self.image_paths[idx]\n",
    "        image = Image.open(image_path).convert('RGB')  # Ensure RGB image\n",
    "        label = self.labels[idx]  # Label does not need adjustment\n",
    "\n",
    "        if self.transform:\n",
    "            image = self.transform(image)\n",
    "\n",
    "        return image, label\n",
    "\n",
    "# Transformations\n",
    "transform = transforms.Compose([\n",
    "    transforms.Resize((160, 160)),  # Resize to match input size\n",
    "    transforms.ToTensor(),\n",
    "    transforms.Normalize(mean=[0.5, 0.5, 0.5], std=[0.5, 0.5, 0.5])  # Normalize to [-1, 1]\n",
    "])\n",
    "\n",
    "# Load datasets\n",
    "train_dataset = IIITS_boys_hostel_FacesDataset(TRAINING_DATA_DIRECTORY, transform=transform)\n",
    "test_dataset = IIITS_boys_hostel_FacesDataset(TESTING_DATA_DIRECTORY, transform=transform)\n",
    "\n",
    "train_loader = DataLoader(train_dataset, batch_size=BATCH_SIZE, shuffle=True)\n",
    "test_loader = DataLoader(test_dataset, batch_size=BATCH_SIZE, shuffle=False)\n",
    "'''\n",
    "# Define the VGGFace160 model\n",
    "class VGGFace160(nn.Module):\n",
    "    def __init__(self, num_classes=20):\n",
    "        super(VGGFace160, self).__init__()\n",
    "        self.features = nn.Sequential(\n",
    "            # Block 1\n",
    "            nn.Conv2d(3, 64, kernel_size=3, padding=1),\n",
    "            nn.ReLU(inplace=True),\n",
    "            nn.Conv2d(64, 64, kernel_size=3, padding=1),\n",
    "            nn.ReLU(inplace=True),\n",
    "            nn.MaxPool2d(kernel_size=2, stride=2),  # 80x80\n",
    "\n",
    "            # Block 2\n",
    "            nn.Conv2d(64, 128, kernel_size=3, padding=1),\n",
    "            nn.ReLU(inplace=True),\n",
    "            nn.Conv2d(128, 128, kernel_size=3, padding=1),\n",
    "            nn.ReLU(inplace=True),\n",
    "            nn.MaxPool2d(kernel_size=2, stride=2),  # 40x40\n",
    "\n",
    "            # Block 3\n",
    "            nn.Conv2d(128, 256, kernel_size=3, padding=1),\n",
    "            nn.ReLU(inplace=True),\n",
    "            nn.Conv2d(256, 256, kernel_size=3, padding=1),\n",
    "            nn.ReLU(inplace=True),\n",
    "            nn.Conv2d(256, 256, kernel_size=3, padding=1),\n",
    "            nn.ReLU(inplace=True),\n",
    "            nn.MaxPool2d(kernel_size=2, stride=2),  # 20x20\n",
    "\n",
    "            # Block 4\n",
    "            nn.Conv2d(256, 512, kernel_size=3, padding=1),\n",
    "            nn.ReLU(inplace=True),\n",
    "            nn.Conv2d(512, 512, kernel_size=3, padding=1),\n",
    "            nn.ReLU(inplace=True),\n",
    "            nn.Conv2d(512, 512, kernel_size=3, padding=1),\n",
    "            nn.ReLU(inplace=True),\n",
    "            nn.MaxPool2d(kernel_size=2, stride=2),  # 10x10\n",
    "\n",
    "            # Block 5\n",
    "            nn.Conv2d(512, 512, kernel_size=3, padding=1),\n",
    "            nn.ReLU(inplace=True),\n",
    "            nn.Conv2d(512, 512, kernel_size=3, padding=1),\n",
    "            nn.ReLU(inplace=True),\n",
    "            nn.Conv2d(512, 512, kernel_size=3, padding=1),\n",
    "            nn.ReLU(inplace=True),\n",
    "            nn.MaxPool2d(kernel_size=2, stride=2)  # 5x5\n",
    "        )\n",
    "\n",
    "        # Adjusted classifier for 160x160 input size\n",
    "        self.classifier = nn.Sequential(\n",
    "            nn.Linear(512 * 5 * 5, 4096),  # Adjusted for output size of 5x5\n",
    "            nn.ReLU(True),\n",
    "            #nn.Dropout(),\n",
    "\n",
    "            nn.Linear(4096, 2048),\n",
    "            nn.ReLU(True),\n",
    "            #nn.Dropout(),\n",
    "\n",
    "            nn.Linear(2048, 1024),\n",
    "            nn.ReLU(True),\n",
    "            #nn.Dropout(),\n",
    "\n",
    "            nn.Linear(1024, 512),\n",
    "            nn.ReLU(True),\n",
    "            nn.Dropout(0.5),\n",
    "\n",
    "            nn.Linear(512, num_classes),\n",
    "            #nn.Softmax(dim=1)  # Softmax for classification output\n",
    "        )\n",
    "\n",
    "    def forward(self, x):\n",
    "        x = self.features(x)\n",
    "        x = x.view(x.size(0), -1)  # Flatten before passing to classifier\n",
    "        x = self.classifier(x)\n",
    "        return x\n",
    "\n",
    "# Instantiate the model for 20 classes\n",
    "model = VGGFace160(num_classes=NUM_CLASSES)'''\n",
    "class CNNModel(nn.Module):\n",
    "    def __init__(self):\n",
    "        super(CNNModel, self).__init__()\n",
    "        self.conv1 = nn.Conv2d(3, 32, kernel_size=3, padding=1)\n",
    "        self.conv2 = nn.Conv2d(32, 64, kernel_size=3, padding=1)\n",
    "        self.conv3 = nn.Conv2d(64, 128, kernel_size=3, padding=1)\n",
    "        self.pool = nn.MaxPool2d(2, 2)\n",
    "        self.fc1 = nn.Linear(128 * (IMAGE_HEIGHT // 8) * (IMAGE_WIDTH // 8), 512)\n",
    "        self.fc2 = nn.Linear(512, NUM_CLASSES)\n",
    "        self.dropout = nn.Dropout(0.5)\n",
    "\n",
    "    def forward(self, x):\n",
    "        x = self.pool(torch.relu(self.conv1(x)))\n",
    "        x = self.pool(torch.relu(self.conv2(x)))\n",
    "        x = self.pool(torch.relu(self.conv3(x)))\n",
    "        x = x.view(-1, 128 * (IMAGE_HEIGHT // 8) * (IMAGE_WIDTH // 8))\n",
    "        x = torch.relu(self.fc1(x))\n",
    "        x = self.dropout(x)\n",
    "        x = self.fc2(x)\n",
    "        return x\n",
    "\n",
    "# Instantiate the model, define the loss function and optimizer\n",
    "device = torch.device(\"cuda\" if torch.cuda.is_available() else \"cpu\")\n",
    "model = CNNModel().to(device)\n",
    "criterion = nn.CrossEntropyLoss()\n",
    "optimizer = optim.Adam(model.parameters(), lr=0.0003)\n",
    "import torch\n",
    "import torch.nn as nn\n",
    "import torch.optim as optim\n",
    "from tqdm import tqdm\n",
    "import matplotlib.pyplot as plt\n",
    "from sklearn.metrics import classification_report, confusion_matrix, precision_score, recall_score, f1_score\n",
    "\n",
    "# Updated training function with saving the best model and tracking metrics\n",
    "import torch\n",
    "import torch.nn as nn\n",
    "import torch.optim as optim\n",
    "from tqdm import tqdm\n",
    "import matplotlib.pyplot as plt\n",
    "from sklearn.metrics import classification_report, confusion_matrix, precision_score, recall_score, f1_score\n",
    "\n",
    "# Updated training function without validation\n",
    "def train_model(model, train_loader, criterion, optimizer, epochs):\n",
    "    model.train()\n",
    "    best_train_acc = 0.0\n",
    "    train_losses, train_accuracies = [], []\n",
    "\n",
    "    for epoch in range(epochs):\n",
    "        running_loss, correct, total = 0.0, 0, 0\n",
    "        for images, labels in tqdm(train_loader, desc=f\"Epoch {epoch+1}/{epochs} - Training\"):\n",
    "            images, labels = images.to(device), labels.to(device)\n",
    "\n",
    "            optimizer.zero_grad()\n",
    "            outputs = model(images)\n",
    "            loss = criterion(outputs, labels)\n",
    "            loss.backward()\n",
    "            optimizer.step()\n",
    "\n",
    "            running_loss += loss.item()\n",
    "            _, predicted = torch.max(outputs.data, 1)\n",
    "            total += labels.size(0)\n",
    "            correct += (predicted == labels).sum().item()\n",
    "\n",
    "        train_loss = running_loss / len(train_loader)\n",
    "        train_acc = 100 * correct / total\n",
    "        train_losses.append(train_loss)\n",
    "        train_accuracies.append(train_acc)\n",
    "\n",
    "        # Save the best model based on training accuracy\n",
    "        if train_acc > best_train_acc:\n",
    "            best_train_acc = train_acc\n",
    "            torch.save(model.state_dict(), \"best_model.pth\")\n",
    "\n",
    "        print(f\"Epoch [{epoch+1}/{epochs}] | Train Loss: {train_loss:.4f}, Train Acc: {train_acc:.2f}%\")\n",
    "\n",
    "    # Plot training metrics\n",
    "    plot_metrics(train_losses, train_accuracies)\n",
    "\n",
    "# Evaluation function (remains the same)\n",
    "def evaluate_model(model, data_loader, criterion):\n",
    "    model.eval()\n",
    "    running_loss, correct, total = 0.0, 0, 0\n",
    "    all_preds, all_labels = [], []\n",
    "\n",
    "    with torch.no_grad():\n",
    "        for images, labels in tqdm(data_loader, desc=\"Evaluating\"):\n",
    "            images, labels = images.to(device), labels.to(device)\n",
    "            outputs = model(images)\n",
    "            loss = criterion(outputs, labels)\n",
    "            running_loss += loss.item()\n",
    "\n",
    "            _, predicted = torch.max(outputs.data, 1)\n",
    "            total += labels.size(0)\n",
    "            correct += (predicted == labels).sum().item()\n",
    "\n",
    "            all_preds.extend(predicted.cpu().numpy())\n",
    "            all_labels.extend(labels.cpu().numpy())\n",
    "\n",
    "    avg_loss = running_loss / len(data_loader)\n",
    "    accuracy = 100 * correct / total\n",
    "\n",
    "    precision = precision_score(all_labels, all_preds, average=\"weighted\")\n",
    "    recall = recall_score(all_labels, all_preds, average=\"weighted\")\n",
    "    f1 = f1_score(all_labels, all_preds, average=\"weighted\")\n",
    "\n",
    "    print(f\"Accuracy: {accuracy:.2f}%\")\n",
    "    print(f\"Precision: {precision:.2f}, Recall: {recall:.2f}, F1-Score: {f1:.2f}\")\n",
    "    print(\"Classification Report:\\n\", classification_report(all_labels, all_preds))\n",
    "    print(\"Confusion Matrix:\\n\", confusion_matrix(all_labels, all_preds))\n",
    "\n",
    "    return avg_loss, accuracy\n",
    "\n",
    "# Plotting function\n",
    "def plot_metrics(losses, accuracies):\n",
    "    epochs = range(1, len(losses) + 1)\n",
    "\n",
    "    plt.figure(figsize=(12, 5))\n",
    "    # Plot Loss\n",
    "    plt.subplot(1, 2, 1)\n",
    "    plt.plot(epochs, losses, label=\"Train Loss\")\n",
    "    plt.xlabel(\"Epochs\")\n",
    "    plt.ylabel(\"Loss\")\n",
    "    plt.title(\"Loss vs Epochs\")\n",
    "    plt.legend()\n",
    "\n",
    "    # Plot Accuracy\n",
    "    plt.subplot(1, 2, 2)\n",
    "    plt.plot(epochs, accuracies, label=\"Train Accuracy\")\n",
    "    plt.xlabel(\"Epochs\")\n",
    "    plt.ylabel(\"Accuracy (%)\")\n",
    "    plt.title(\"Accuracy vs Epochs\")\n",
    "    plt.legend()\n",
    "\n",
    "    plt.tight_layout()\n",
    "    plt.show()\n",
    "\n",
    "# Train the model\n",
    "train_model(model, train_loader, criterion, optimizer, EPOCHS)\n",
    "\n",
    "# Load the best model for final evaluation\n",
    "model.load_state_dict(torch.load(\"best_model.pth\"))\n",
    "evaluate_model(model, test_loader, criterion)\n",
    "\n",
    "\n",
    "\n",
    "# Mapping function to convert class indices to class names\n",
    "def map_class_index_to_name(class_index):\n",
    "    idx_to_class = {v: k for k, v in train_dataset.class_to_idx.items()}\n",
    "    return idx_to_class.get(class_index, \"Unknown\")"
   ]
  }
 ],
 "metadata": {
  "accelerator": "GPU",
  "colab": {
   "gpuType": "T4",
   "provenance": []
  },
  "kernelspec": {
   "display_name": "Python 3",
   "name": "python3"
  },
  "language_info": {
   "name": "python"
  }
 },
 "nbformat": 4,
 "nbformat_minor": 0
}
